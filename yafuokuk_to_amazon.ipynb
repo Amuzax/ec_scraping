{
 "cells": [
  {
   "cell_type": "markdown",
   "id": "f6cf1d20-d043-42a0-8767-14a854cc63e7",
   "metadata": {},
   "source": [
    "- 案件：[リサイクル品を扱うネットショップのリサーチと商品登録業務をお手伝い頂けませんか？](https://crowdworks.jp/proposals/193638313#scroll_to_message)\n",
    "- Notionページ：https://www.notion.so/5364556d13fe44d6afd582e0a49fb29a\n",
    "- staff2@polyphony.tokyo\n",
    "- Muzaiko20230606"
   ]
  },
  {
   "cell_type": "markdown",
   "id": "5582e11a-1a9c-4388-8bd1-d18cddad5c6b",
   "metadata": {},
   "source": [
    "# Amazon側作業"
   ]
  },
  {
   "cell_type": "code",
   "execution_count": 149,
   "id": "49850440-e29f-450e-b3f9-1b0b0a6b46e7",
   "metadata": {},
   "outputs": [
    {
     "name": "stderr",
     "output_type": "stream",
     "text": [
      "C:\\Users\\amuza\\AppData\\Local\\Temp\\ipykernel_2840\\668953511.py:20: DeprecationWarning: executable_path has been deprecated, please pass in a Service object\n",
      "  browser = webdriver.Chrome(r'C:\\Users\\amuza\\OneDrive\\Documents\\Python-study\\ec_scraping\\chromedriver.exe', options=chrome_options)\n"
     ]
    },
    {
     "name": "stdout",
     "output_type": "stream",
     "text": [
      "▼ 対象URLを入力してください\n"
     ]
    },
    {
     "name": "stdin",
     "output_type": "stream",
     "text": [
      " https://www.amazon.co.jp/s?rh=n%3A3901642051&fs=true&ref=lp_3901642051_sar\n"
     ]
    }
   ],
   "source": [
    "from selenium import webdriver\n",
    "from selenium.webdriver.common.by import By\n",
    "from selenium.webdriver.common.keys import Keys\n",
    "import chromedriver_binary\n",
    "import datetime\n",
    "import time\n",
    "import pandas as pd\n",
    "\n",
    "#ブラウザの設定\n",
    "chrome_options = webdriver.ChromeOptions()\n",
    "# options.add_argument('--headless')\n",
    "chrome_options.add_argument('--no-sandbox')\n",
    "chrome_options.add_argument('--disable-dev-shm-usage')\n",
    "# 拡張機能 Resale Trap を有効にする　staff2@polyphony.tokyo／Muzaiko20230606\n",
    "chrome_options.add_extension(r'C:\\Users\\amuza\\OneDrive\\Documents\\Python-study\\ec_scraping\\extensions/resaletrap_3.0.9.crx')\n",
    "# Chromeを起動するためのオプションにプロファイルを追加する\n",
    "chrome_options.add_argument(r'--user-data-dir=C:\\Users\\amuza\\OneDrive\\Documents\\Python-study\\ec_scraping\\profile')\n",
    "\n",
    "#ブラウザの起動する\n",
    "browser = webdriver.Chrome(r'C:\\Users\\amuza\\OneDrive\\Documents\\Python-study\\ec_scraping\\chromedriver.exe', options=chrome_options)\n",
    "browser.implicitly_wait(3)\n",
    "\n",
    "# Amazon商品ページを開く\n",
    "# url = 'https://www.amazon.co.jp/s?rh=n%3A3901642051&fs=true&ref=lp_3901642051_sar' $ 固定入力の場合\n",
    "print('▼ 対象URLを入力してください') # 標準入力の場合\n",
    "url_org = input()\n",
    "browser.get(url_org)\n",
    "\n",
    "# Amazon のウィンドウハンドラの保持\n",
    "amazon_window = browser.current_window_handle"
   ]
  },
  {
   "cell_type": "code",
   "execution_count": 147,
   "id": "2ce258bf-1a96-4f89-8aab-5c9eafa883aa",
   "metadata": {},
   "outputs": [],
   "source": [
    "# 【動作テスト用】ページを直接開く\n",
    "browser.get('https://www.amazon.co.jp/s?rh=n%3A3901642051&fs=true&ref=lp_3901642051_sar')\n",
    "\n",
    "# 大元（Amazon）のウィンドウハンドラの保持\n",
    "amazon_window = browser.current_window_handle\n",
    "print(amazon_window)"
   ]
  },
  {
   "cell_type": "code",
   "execution_count": null,
   "id": "a92a66b2-e4ad-4270-baaa-819d290dcbf7",
   "metadata": {},
   "outputs": [],
   "source": [
    "# 後々の出品時の価格設定に必要な Amazon の商品情報を取得する\n",
    "\n",
    "\n"
   ]
  },
  {
   "cell_type": "code",
   "execution_count": null,
   "id": "e3bc175a-85e7-4098-8ef4-e400b2d0170e",
   "metadata": {},
   "outputs": [],
   "source": [
    "# ■ どうにかしてAmazon商品とヤフオク商品の整合性を確保する\n",
    "\n",
    "\n"
   ]
  },
  {
   "cell_type": "code",
   "execution_count": 151,
   "id": "2090ec70-fdf3-4006-b5ec-9382a1a3d0f5",
   "metadata": {},
   "outputs": [],
   "source": [
    "# 【動作テスト用】出品候補のヤフオクの対象商品をクリックする。新しいウィンドウでヤフオクの商品ページが開かれる\n",
    "browser.find_element(By.XPATH, '//a[@data-asin=\"B07YG7RNF2\"]').click()"
   ]
  },
  {
   "cell_type": "code",
   "execution_count": 152,
   "id": "56c0f5fd-5cbf-489e-b71f-66d38da91ee3",
   "metadata": {},
   "outputs": [
    {
     "name": "stdout",
     "output_type": "stream",
     "text": [
      "['EEC0DB582F64E4435508CEB7B0748344', 'BC7CE6A17B4EDE8B927C9854409E0CCE']\n",
      "BC7CE6A17B4EDE8B927C9854409E0CCE\n"
     ]
    }
   ],
   "source": [
    "# 開いているすべてのウィンドウハンドルを取得（リスト形式）し、新しいウィンドウ（ヤフオク商品ページ）をアクティブにする\n",
    "handle_array = browser.window_handles\n",
    "print(handle_array)\n",
    "browser.switch_to.window(handle_array[-1])\n",
    "\n",
    "# ヤフオク商品ページのウィンドウハンドラの保持\n",
    "yafuoku_window = browser.current_window_handle\n",
    "print(yafuoku_window)"
   ]
  },
  {
   "cell_type": "code",
   "execution_count": null,
   "id": "332f167c-5ad7-45c7-be7e-f95e7c1b9a97",
   "metadata": {},
   "outputs": [],
   "source": [
    "# ヤフオク商品情報を取得する\n",
    "# 下記「ヤフオク側作業」を実施する\n",
    "\n"
   ]
  },
  {
   "cell_type": "code",
   "execution_count": 153,
   "id": "1b51632c-2cfe-497d-9ace-d4df83d81b50",
   "metadata": {},
   "outputs": [],
   "source": [
    "# 「監視対象に追加する」をクリックする。新しいウィンドウでヤフオクの商品ページが開かれる\n",
    "browser.find_element(By.XPATH, '//a[contains(text(), \"監視対象に追加する\")]').click()"
   ]
  },
  {
   "cell_type": "code",
   "execution_count": 154,
   "id": "146c3883-7627-4a78-b577-a99c99d96e58",
   "metadata": {},
   "outputs": [
    {
     "name": "stdout",
     "output_type": "stream",
     "text": [
      "['EEC0DB582F64E4435508CEB7B0748344', 'BC7CE6A17B4EDE8B927C9854409E0CCE', '17A5A88F48889E332208394F66F03D9A']\n",
      "17A5A88F48889E332208394F66F03D9A\n"
     ]
    }
   ],
   "source": [
    "# 開いているすべてのウィンドウハンドルを取得（リスト形式）し、新しいウィンドウ（ResaleTrap管理画面）をアクティブにする\n",
    "handle_array = browser.window_handles\n",
    "print(handle_array)\n",
    "browser.switch_to.window(handle_array[-1])\n",
    "\n",
    "# ヤフオク商品ページのウィンドウハンドラの保持\n",
    "resaletrap_window = browser.current_window_handle\n",
    "print(resaletrap_window)"
   ]
  },
  {
   "cell_type": "code",
   "execution_count": 175,
   "id": "2dcdd743-b881-4db1-b79f-c095e6f5bfc4",
   "metadata": {},
   "outputs": [],
   "source": [
    "from selenium.webdriver.support.select import Select\n",
    "\n",
    "# Amazon 情報取得\n",
    "\n",
    "# 出品情報を設定する\n",
    "# 予想落札価格\n",
    "browser.find_elements(By.XPATH, '//input')[0].send_keys(Keys.CONTROL,\"a\")\n",
    "browser.find_elements(By.XPATH, '//input')[0].send_keys('3000')\n",
    "\n",
    "# 送料\n",
    "browser.find_elements(By.XPATH, '//input')[1].send_keys(Keys.CONTROL,\"a\")\n",
    "browser.find_elements(By.XPATH, '//input')[1].send_keys('3000')\n",
    "\n",
    "# 利益額　※ 利益「率」とのどちらか一方を選択\n",
    "browser.find_elements(By.XPATH, '//input')[2].send_keys(Keys.CONTROL,\"a\")\n",
    "browser.find_elements(By.XPATH, '//input')[2].send_keys('3000')\n",
    "\n",
    "# 利益率　※ 利益「額」とのどちらか一方を選択\n",
    "browser.find_elements(By.XPATH, '//input')[3].send_keys(Keys.CONTROL,\"a\")\n",
    "browser.find_elements(By.XPATH, '//input')[3].send_keys('3000')\n",
    "\n",
    "# Sub Condition\n",
    "\n",
    "# リードタイム\n",
    "browser.find_elements(By.XPATH, '//input')[4].send_keys(Keys.CONTROL,\"a\")\n",
    "browser.find_elements(By.XPATH, '//input')[4].send_keys('3000')\n",
    "\n",
    "# 販売価格　※ 予想落札価格、送料、利益額/率を入れることで自動計算される\n",
    "\n",
    "# 商品説明"
   ]
  },
  {
   "cell_type": "code",
   "execution_count": 179,
   "id": "f6a5fc8f-2c08-419e-873e-7a5bd641eebf",
   "metadata": {},
   "outputs": [],
   "source": [
    "# Sub Condition\n",
    "# browser.find_element(By.XPATH, '//select[@class=\"form-select\"]').click()\n",
    "browser.find_element(By.XPATH, '//option[@value=\"21\"]').click()\n",
    "\n",
    "# select = Select(dropdown) # ③ Selectオブジェクト生成\n",
    "# select.select_by_visible_text('ほぼ新品')  # 3番目のoptionタグを選択状態に"
   ]
  },
  {
   "cell_type": "code",
   "execution_count": null,
   "id": "03607d77-18f9-41ab-971e-0bd221ea1b1e",
   "metadata": {},
   "outputs": [],
   "source": [
    "# 「新規出品」ボタンをクリックする\n",
    "browser.find_element(By.XPATH, '//button[contains(text(), \"新規出品\")]').click()\n",
    "\n"
   ]
  },
  {
   "cell_type": "code",
   "execution_count": null,
   "id": "c2a461f6-13df-401d-bcb7-3723ea858b7a",
   "metadata": {},
   "outputs": [],
   "source": []
  },
  {
   "cell_type": "markdown",
   "id": "2b797499-d0ad-4ee6-8ffc-372e1dbcd4ef",
   "metadata": {},
   "source": [
    "# ヤフオク側作業"
   ]
  },
  {
   "cell_type": "code",
   "execution_count": null,
   "id": "eaa295f6-87a8-4872-9b96-00be99bc050b",
   "metadata": {},
   "outputs": [],
   "source": [
    "from selenium import webdriver\n",
    "from selenium.webdriver.common.by import By\n",
    "from selenium.webdriver.common.keys import Keys\n",
    "import chromedriver_binary\n",
    "import datetime\n",
    "import time\n",
    "import pandas as pd\n",
    "\n",
    "#ブラウザの設定\n",
    "chrome_options = webdriver.ChromeOptions()\n",
    "# options.add_argument('--headless')\n",
    "chrome_options.add_argument('--no-sandbox')\n",
    "chrome_options.add_argument('--disable-dev-shm-usage')\n",
    "# 拡張機能 Resale Trap を有効にする　staff2@polyphony.tokyo／Muzaiko20230606\n",
    "chrome_options.add_extension(r'C:\\Users\\amuza\\OneDrive\\Documents\\Python-study\\ec_scraping\\extensions/resaletrap_3.0.9.crx')\n",
    "# Chromeを起動するためのオプションにプロファイルを追加する\n",
    "chrome_options.add_argument(r'--user-data-dir=C:\\Users\\amuza\\OneDrive\\Documents\\Python-study\\ec_scraping\\profile')\n",
    "\n",
    "#ブラウザの起動する\n",
    "browser = webdriver.Chrome(r'C:\\Users\\amuza\\OneDrive\\Documents\\Python-study\\ec_scraping\\chromedriver.exe', options=chrome_options)\n",
    "\n",
    "# ヤフオク商品ページを開く\n",
    "# url = 'https://page.auctions.yahoo.co.jp/jp/auction/v1094580770' $ 固定入力の場合\n",
    "print('▼ 対象URLを入力してください') # 標準入力の場合\n",
    "url_org = input()\n",
    "browser.get(url_org)"
   ]
  },
  {
   "cell_type": "code",
   "execution_count": null,
   "id": "ca2b8f72-0ee2-45ef-acb8-2ec1bb036f3c",
   "metadata": {},
   "outputs": [],
   "source": [
    "# 【動作テスト用】ページを直接開く\n",
    "browser.get('https://page.auctions.yahoo.co.jp/jp/auction/h1089535961')"
   ]
  },
  {
   "cell_type": "code",
   "execution_count": null,
   "id": "660a82b8-9383-44ca-b02c-d42611be1450",
   "metadata": {},
   "outputs": [],
   "source": [
    "item_name = browser.find_element(By.XPATH, '//h1').text\n",
    "print('商品名：', item_name)"
   ]
  },
  {
   "cell_type": "code",
   "execution_count": null,
   "id": "93db749b-1443-4e8e-92b0-510371386661",
   "metadata": {},
   "outputs": [],
   "source": [
    "item_price = browser.find_element(By.XPATH, '//dd[@class=\"Price__value\"]').text.replace(' ', '').replace(',', '')\n",
    "print('価格：', item_price)"
   ]
  },
  {
   "cell_type": "code",
   "execution_count": null,
   "id": "01c064a5-df10-4145-8715-95dd0d1132e4",
   "metadata": {},
   "outputs": [],
   "source": [
    "state = browser.find_element(By.XPATH, '//th[contains(text(), \"状態\")]/following-sibling::td/a').text\n",
    "print('状態：', state)"
   ]
  },
  {
   "cell_type": "code",
   "execution_count": null,
   "id": "9108ef96-b84f-4c71-a867-c4bcc090cf8f",
   "metadata": {},
   "outputs": [],
   "source": [
    "bidnum = browser.find_elements(By.XPATH, '//span[@class=\"Count__detail\"]')[0].text\n",
    "print('入札数：', bidnum)"
   ]
  },
  {
   "cell_type": "code",
   "execution_count": null,
   "id": "41d556c1-a04f-436d-a6fa-5f56ec17d653",
   "metadata": {},
   "outputs": [],
   "source": [
    "# ・出品者の評価が97％以上\n",
    "# →　商品ページの出品者欄の「○○%」で判定\n",
    "seller_rating = browser.find_element(By.XPATH, '//div[@class=\"Seller__ratingRatio\"]').text\n",
    "print('評価：', seller_rating)"
   ]
  },
  {
   "cell_type": "code",
   "execution_count": null,
   "id": "0b784f10-a51e-4b29-a66a-71cfb42842fe",
   "metadata": {},
   "outputs": [],
   "source": [
    "# 評価数は多い方が望ましい\n",
    "seller_rating_num = browser.find_element(By.XPATH, '//a[@class=\"Seller__ratingLink\"]').text\n",
    "print('評価数：', seller_rating_num)"
   ]
  },
  {
   "cell_type": "code",
   "execution_count": null,
   "id": "fd4713ef-1deb-44d7-80ba-7d100dde91c2",
   "metadata": {},
   "outputs": [],
   "source": [
    "# ・出品者が「匿名配送」希望でないこと\n",
    "# →　商品ページのタイトルに「匿名配送」アイコンがないことで判定\n",
    "try:\n",
    "    privacy = browser.find_element(By.XPATH, '//span[@class=\"Icon Icon--privacy\"]').text # 匿名配送の場合\n",
    "except:\n",
    "    privacy = '匿名配送なし'\n",
    "print('匿名配送：', privacy)"
   ]
  },
  {
   "cell_type": "code",
   "execution_count": null,
   "id": "65f6a1b9-2d2c-4dbd-b6fe-34e602f43e3c",
   "metadata": {},
   "outputs": [],
   "source": [
    "# 送料の「詳細」ポップアップから配送情報を取得する\n",
    "\n",
    "# 送料の「詳細」をクリックする\n",
    "# ● 「詳細」ポップアップを開く必要はないのかも\n",
    "# →　ポップアップは開かないとエラーになって地域選択はできなかった\n",
    "browser.find_element(By.XPATH, '//a[@id=\"postageDetailCurrent\"]').click()\n",
    "browser.implicitly_wait(1)\n",
    "# 配送先から「青森県」を選ぶ\n",
    "browser.find_element(By.XPATH, '//option[contains(text(), \"青森県\")]').click()\n",
    "browser.implicitly_wait(1)\n",
    "\n",
    "# 配送情報を取得する\n",
    "try:\n",
    "    postage_detail_1 = browser.find_element(By.XPATH, '//dt[@class=\"BidModal__postageName\"]').text\n",
    "    print('配送方法：', postage_detail_1)\n",
    "    # postage_detail_2 = browser.find_element(By.XPATH, '//div[@class=\"BidModal__postagePrice\"]').text\n",
    "    # print('送料：', postage_detail_2)\n",
    "except:\n",
    "    pass\n",
    "\n",
    "# 「✕」をクリックしてポップアップを閉じる\n",
    "browser.find_element(By.XPATH, '//div[@class=\"BidModal__box BidModal__box--postage js-modal-box\"]//a[contains(text(), \"閉じる\")]').click()\n",
    "\n",
    "postage_from = browser.find_element(By.XPATH, '//p[@class=\"Price__postageFrom\"]').text\n",
    "print('発送元：', postage_from)\n",
    "\n",
    "send_date = browser.find_element(By.XPATH, '//dt[contains(text(), \"発送開始\")]/following-sibling::dd').text\n",
    "print('発送開始：', send_date)\n",
    "\n",
    "postage = browser.find_element(By.XPATH, '//span[@class=\"Price__postageValue\"]').text\n",
    "print('送料：', postage)"
   ]
  },
  {
   "cell_type": "code",
   "execution_count": null,
   "id": "d1b126cf-3adf-454f-820b-07e5ffccf2d6",
   "metadata": {},
   "outputs": [],
   "source": [
    "# 商品説明文を取得する\n",
    "# この内容を基に配送業者情報、営業所止め情報、直接取引情報、着払い情報などを取りたい\n",
    "item_info = browser.find_element(By.XPATH, '//div[@class=\"ProductExplanation__commentArea\"]').text\n",
    "print('商品説明：', item_info)"
   ]
  },
  {
   "cell_type": "code",
   "execution_count": null,
   "id": "bb67f0d3-8e8a-45f5-b66e-a805bae3e5e2",
   "metadata": {},
   "outputs": [],
   "source": [
    "# 正規表現での文字列検索テスト\n",
    "# Pythonで文字列を抽出（位置・文字数、正規表現） 　\n",
    "# https://note.nkmk.me/python-str-extract/\n",
    "# 【Python】文字列を検索・抽出する方法【in演算子、findメソッド、正規表現】\n",
    "# https://python-academia.com/python-str-extract/\n",
    "\n",
    "import re\n",
    "\n",
    "s = '直接取引限定　直接取り引き限定　直接取引のみ　直接引き取りのみ　要直接引き渡し　直接取引可能　営業所止め限定　営業所止め可能　営業所止め不可　着払い　着払い希望　着払い可能'\n",
    "\n",
    "print(re.findall('直接.?.?.?.?.?.?', s))\n",
    "print(re.findall('営業所.?.?.?.?', s))\n",
    "print(re.findall('着払い.?.?.?.?', s))\n",
    "\n",
    "print('直接取引限定：', '直接取引限定' in s)\n",
    "print('営業所止め：', '営業所止め' in s)\n",
    "print('着払い：', '着払い' in s)"
   ]
  },
  {
   "cell_type": "code",
   "execution_count": null,
   "id": "a2c1c6ff-26d4-4730-b5a5-578514cdb176",
   "metadata": {},
   "outputs": [],
   "source": [
    "# ・直接引き取り限定でないこと\n",
    "# →　商品タイトルおよび商品説明文に「直接取引のみ」などの単語がないことで判定\n",
    "# →　■ テキストマイニングを活用するとよい？？？\n",
    "\n",
    "# 商品名判定\n",
    "print('直接取引関連(商品名)：', re.findall('直接.{10}', item_name))\n",
    "\n",
    "# 商品説明判定\n",
    "print('直接取引関連(商品説明)：', re.findall('直接.{10}', item_info))\n",
    "print('手渡し関連(商品説明)', re.findall('手渡.{10}', item_info))\n",
    "\n",
    "# print('直接取引(商品説明)：', '直接取引' in item_info)\n",
    "# print('直接引取(商品説明)：', '直接引取' in item_info)"
   ]
  },
  {
   "cell_type": "code",
   "execution_count": null,
   "id": "76d16d3e-cb67-422e-be84-f9468884d27d",
   "metadata": {},
   "outputs": [],
   "source": [
    "# ・配送が着払いでないこと\n",
    "# →　「送料負担」が「出品者」であること OR 配送情報詳細や商品説明に「着払い」とないこと\n",
    "postage_due = browser.find_element(By.XPATH, '//dt[contains(text(), \"送料負担\")]/following-sibling::dd').text\n",
    "print('送料負担：', postage_due)\n",
    "\n",
    "# 商品名判定\n",
    "print('直接取引関連(商品名)：', re.findall('着払.{10}', item_name))\n",
    "\n",
    "# 商品説明判定\n",
    "print('着払(商品説明)：', re.findall('着払.{10}', item_info))\n",
    "\n",
    "# print('着払(商品説明)：', '着払' in item_info)"
   ]
  },
  {
   "cell_type": "code",
   "execution_count": null,
   "id": "ff69e3a3-566d-4866-a2ae-3d362c8ccc01",
   "metadata": {},
   "outputs": [],
   "source": [
    "# ・配送がヤマト、佐川、日本郵便などであること（直接エンドユーザーまで届けられること、一部運送会社だと営業所留めがあるため）\n",
    "# ・営業所止めでないこと\n",
    "# →　商品説明文に「営業所度止め」などの単語がないことで判定\n",
    "# 「らくらく家財便」だと安心\n",
    "\n",
    "# 商品名判定\n",
    "print('ヤマト(商品名)：', re.findall('ヤマト.{5}', item_name))\n",
    "\n",
    "# 商品説明判定\n",
    "print('ヤマト関連(商品説明)：', re.findall('ヤマト.{5}', item_info))\n",
    "print('らくらく家財便(商品説明)：', re.findall('らくらく.{10}', item_info))\n",
    "print('佐川関連(商品説明)', re.findall('佐川.{5}', item_info))\n",
    "print('日本郵便関連(商品説明)', re.findall('日本郵便.{5}', item_info))\n",
    "print('営業所止め関連(商品説明)', re.findall('.{5}止め.{5}', item_info))\n",
    "\n",
    "# print('直接取引(商品説明)：', '直接取引' in item_info)\n",
    "# print('直接引取(商品説明)：', '直接引取' in item_info)\n",
    "# print('営業所止め：', '営業所止め' in item_info)"
   ]
  },
  {
   "cell_type": "code",
   "execution_count": null,
   "id": "30b665b1-906e-4037-b3a6-3b671147b588",
   "metadata": {},
   "outputs": [],
   "source": [
    "# 訳あり品でないこと（下遠野追加）\n",
    "\n",
    "# 商品名判定\n",
    "print(re.findall('訳.{5}', item_name))\n",
    "\n",
    "# 商品説明判定\n",
    "print(re.findall('訳.{5}', item_info))"
   ]
  },
  {
   "cell_type": "code",
   "execution_count": null,
   "id": "713c158e-cad3-4110-ad36-bda2cd9505e8",
   "metadata": {},
   "outputs": [],
   "source": [
    "# オークションの残り日数が一定数あること\n",
    "# →　商品ページ内の残り時間やオークション終了用低日時で判定\n",
    "auc_timeleft = browser.find_elements(By.XPATH, '//span[@class=\"Count__detail\"]')[1].text\n",
    "print('残り日数(画面表示)：', auc_timeleft)\n",
    "\n",
    "auc_enddatetime = browser.find_element(By.XPATH, '//th[contains(text(), \"終了日時\")]/following-sibling::td').text\n",
    "print('終了予定(str型)：', auc_enddatetime)\n",
    "\n",
    "auc_enddate = auc_enddatetime.split('（')[0]\n",
    "auc_endtime = auc_enddatetime.split('）')[1]\n",
    "auc_end = auc_enddate + ' ' + auc_endtime\n",
    "auc_enddatetime = datetime.datetime.strptime(auc_end, '%Y.%m.%d %H:%M')\n",
    "print('終了予定(datetime型)：', auc_enddatetime)\n",
    "# print(type(auc_enddatetime))\n",
    "\n",
    "dt_now = datetime.datetime.now()\n",
    "print('現在時刻：', dt_now)\n",
    "\n",
    "auc_time_left = auc_enddatetime - dt_now\n",
    "print('残り時間(詳細計算)：', auc_time_left)"
   ]
  },
  {
   "cell_type": "code",
   "execution_count": null,
   "id": "f9b893bd-0be7-4631-815f-0034fad01bfe",
   "metadata": {},
   "outputs": [],
   "source": [
    "# アマゾンでの販売価格が適切に収まること\n",
    "# →　新品価格を下回っていることで判定\n"
   ]
  },
  {
   "cell_type": "code",
   "execution_count": null,
   "id": "0ce34ef4-ce48-4a46-a6b4-9f7d6963824a",
   "metadata": {},
   "outputs": [],
   "source": [
    "# ヤフオクとの価格差がある程度あること（利益が取れること）\n",
    "# →　ResaleTrapで判定するため本プログラムでは対応不要\n"
   ]
  },
  {
   "cell_type": "code",
   "execution_count": null,
   "id": "1eaf52e8-7f43-419a-9126-ea5950df500d",
   "metadata": {},
   "outputs": [],
   "source": [
    "# 取得した情報を CSV 出力用にまとめる\n",
    "data_list = []\n",
    "\n",
    "data = {\n",
    "    '商品名': item_name,\n",
    "    '価格': item_price,\n",
    "    '商品説明': item_info,\n",
    "    '評価': seller_rating,\n",
    "    '評価数': seller_rating_num,\n",
    "    '匿名配送': privacy,\n",
    "    '送料': postage_1,\n",
    "    '送料詳細_1': postage_detail_1,\n",
    "    '送料詳細_2': postage_detail_2,\n",
    "    '送料詳細_3': postage_detail_3,\n",
    "    '取得日時': datetime.datetime.now().strftime('%Y/%m/%d %H:%M'),\n",
    "    '終了予定': auc_enddatetime,\n",
    "    '残り時間': auc_time_left,\n",
    "    }\n",
    "\n",
    "data_list.append(data)\n",
    "print('data_list', data_list)"
   ]
  },
  {
   "cell_type": "code",
   "execution_count": null,
   "id": "66bdd11c-16c2-4038-a1d6-b9d87a53b453",
   "metadata": {},
   "outputs": [],
   "source": [
    "# 取得した情報を CSV ファイルに出力する\n",
    "output_time = datetime.datetime.now().strftime('%Y%m%d%H%M%S')\n",
    "csv_file_name = 'ヤフオクtoアマゾンデータ_' + output_time + '.csv'\n",
    "pd.DataFrame(data_list).to_csv(csv_file_name, encoding='cp932')"
   ]
  },
  {
   "cell_type": "markdown",
   "id": "b6e10064-6794-413a-9c07-66effcbaaecf",
   "metadata": {},
   "source": [
    "# 完成版"
   ]
  },
  {
   "cell_type": "code",
   "execution_count": null,
   "id": "655cd7b0-74d9-49e8-9e2a-dd4289f1fd3a",
   "metadata": {},
   "outputs": [],
   "source": [
    "\n",
    "def xxx():\n",
    "    \n",
    "def yyy():\n",
    "    \n",
    "# csvファイルに出力する\n",
    "def output():\n",
    "    output_time = datetime.datetime.now().strftime('%Y%m%d%H%M%S')\n",
    "    csv_file_name = 'ヤフオクtoアマゾンデータ_' + output_time + '.csv'\n",
    "    pd.DataFrame(data_list).to_csv(csv_file_name, encoding='cp932')\n",
    "\n",
    "def main():\n",
    "    xxx()\n",
    "    yyy()\n",
    "    output()\n",
    "\n",
    "if __name__ == '__main__':\n",
    "    main()"
   ]
  },
  {
   "cell_type": "code",
   "execution_count": null,
   "id": "48a7b6ec-5fce-4a11-b58a-09d28f28f74f",
   "metadata": {},
   "outputs": [],
   "source": []
  },
  {
   "cell_type": "code",
   "execution_count": null,
   "id": "1d65ecdb-4031-40ee-a2ae-80ba50c5b5b8",
   "metadata": {},
   "outputs": [],
   "source": []
  },
  {
   "cell_type": "code",
   "execution_count": null,
   "id": "3b1739a5-35f4-4d16-b84a-933d27535c4c",
   "metadata": {},
   "outputs": [],
   "source": []
  }
 ],
 "metadata": {
  "kernelspec": {
   "display_name": "Python 3 (ipykernel)",
   "language": "python",
   "name": "python3"
  },
  "language_info": {
   "codemirror_mode": {
    "name": "ipython",
    "version": 3
   },
   "file_extension": ".py",
   "mimetype": "text/x-python",
   "name": "python",
   "nbconvert_exporter": "python",
   "pygments_lexer": "ipython3",
   "version": "3.9.13"
  }
 },
 "nbformat": 4,
 "nbformat_minor": 5
}
