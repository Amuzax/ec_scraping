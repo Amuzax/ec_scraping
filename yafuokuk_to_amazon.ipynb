{
 "cells": [
  {
   "cell_type": "markdown",
   "id": "f6cf1d20-d043-42a0-8767-14a854cc63e7",
   "metadata": {},
   "source": [
    "- 案件：[リサイクル品を扱うネットショップのリサーチと商品登録業務をお手伝い頂けませんか？](https://crowdworks.jp/proposals/193638313#scroll_to_message)\n",
    "- Notionページ：https://www.notion.so/5364556d13fe44d6afd582e0a49fb29a\n",
    "- staff2@polyphony.tokyo\n",
    "- Muzaiko20230606"
   ]
  },
  {
   "cell_type": "markdown",
   "id": "1b834c08-b4a0-4f71-b5c1-2b1dc64b79a5",
   "metadata": {},
   "source": [
    "# 動作検証"
   ]
  },
  {
   "cell_type": "markdown",
   "id": "4cd51ec0-8b7d-4808-b935-0364fa6f7d9f",
   "metadata": {},
   "source": [
    "## ブラウザを起動しAmazonページを開く"
   ]
  },
  {
   "cell_type": "code",
   "execution_count": 594,
   "id": "49850440-e29f-450e-b3f9-1b0b0a6b46e7",
   "metadata": {},
   "outputs": [
    {
     "name": "stderr",
     "output_type": "stream",
     "text": [
      "C:\\Users\\amuza\\AppData\\Local\\Temp\\ipykernel_2840\\226476478.py:21: DeprecationWarning: executable_path has been deprecated, please pass in a Service object\n",
      "  browser = webdriver.Chrome(r'C:\\Users\\amuza\\OneDrive\\Documents\\Python-study\\ec_scraping\\chromedriver.exe', options=chrome_options)\n"
     ]
    }
   ],
   "source": [
    "from selenium import webdriver\n",
    "from selenium.webdriver.common.by import By\n",
    "from selenium.webdriver.common.keys import Keys\n",
    "import chromedriver_binary\n",
    "import datetime\n",
    "import time\n",
    "import re # 正規表現用\n",
    "import pandas as pd\n",
    "\n",
    "#ブラウザの設定\n",
    "chrome_options = webdriver.ChromeOptions()\n",
    "# options.add_argument('--headless')\n",
    "chrome_options.add_argument('--no-sandbox')\n",
    "chrome_options.add_argument('--disable-dev-shm-usage')\n",
    "# 拡張機能 Resale Trap を有効にする　staff2@polyphony.tokyo／Muzaiko20230606\n",
    "chrome_options.add_extension(r'C:\\Users\\amuza\\OneDrive\\Documents\\Python-study\\ec_scraping\\extensions/resaletrap_3.0.9.crx')\n",
    "# Chromeを起動するためのオプションにプロファイルを追加する\n",
    "chrome_options.add_argument(r'--user-data-dir=C:\\Users\\amuza\\OneDrive\\Documents\\Python-study\\ec_scraping\\profile')\n",
    "\n",
    "#ブラウザの起動する\n",
    "browser = webdriver.Chrome(r'C:\\Users\\amuza\\OneDrive\\Documents\\Python-study\\ec_scraping\\chromedriver.exe', options=chrome_options)\n",
    "browser.implicitly_wait(1)\n",
    "\n",
    "# Amazon商品ページを開く\n",
    "url = 'https://www.amazon.co.jp/s?i=kitchen&bbn=3901642051&rh=n%3A3901642051&dc&fs=true&ds=v1%3AToEcktBQXhf5eAM6xUbKHgRKlL92dOwOpGKkc6hn4VI&qid=1686568956&ref=sr_ex_n_1' # 固定入力の場合\n",
    "# print('▼ 調査対象の Amazon URL を入力してください') # 標準入力の場合\n",
    "# url = input() # 標準入力の場合\n",
    "browser.get(url)\n",
    "\n",
    "# Amazon のウィンドウハンドラの保持　→　なくても大丈夫っぽい\n",
    "amazon_window = browser.current_window_handle\n",
    "# print(amazon_window)\n",
    "\n",
    "# 情報格納用リスト\n",
    "data_list = []"
   ]
  },
  {
   "cell_type": "code",
   "execution_count": null,
   "id": "2ce258bf-1a96-4f89-8aab-5c9eafa883aa",
   "metadata": {},
   "outputs": [],
   "source": [
    "# 【動作テスト用】\n",
    "# ページを直接開く\n",
    "browser.get('')\n",
    "\n",
    "# 大元（Amazon）のウィンドウハンドラの保持\n",
    "amazon_window = browser.current_window_handle\n",
    "print(amazon_window)"
   ]
  },
  {
   "cell_type": "markdown",
   "id": "5582e11a-1a9c-4388-8bd1-d18cddad5c6b",
   "metadata": {},
   "source": [
    "## Amazonページから情報を取得する"
   ]
  },
  {
   "cell_type": "code",
   "execution_count": 595,
   "id": "63d6a4cb-b57f-4158-bb69-51003cfae5be",
   "metadata": {},
   "outputs": [
    {
     "name": "stdout",
     "output_type": "stream",
     "text": [
      "Amazon商品名： SALONIA サロニア | スピーディーイオン ドライヤー 【ブラック】 ヘアドライヤー 大風量 速乾 軽量 マイナスイオン 折り畳み式 冷温3段階調整\n",
      "過去1か月で5000点以上購入されました\n",
      "Amazon価格： 5373 円\n",
      "　▽\n",
      "ヤフオク商品名： SALONIA◆ドライヤー・ヘアアイロン スピーディーイオンドライヤー SL-013BK [BLACK]\n",
      "ヤフオク現在価格： 5390 円\n",
      "A-Y参考現在価格差： -17 円\n",
      "参考現在利益率： -0.3 %\n",
      "▲ 利益基準未達のためヤフオク商品ページを開きませんでした ▲\n",
      "\n",
      "ヤフオク商品名： 【1円】SALONIA ドライヤー SL-013BK サロニア【訳あり品】\n",
      "ヤフオク現在価格： 1 円\n",
      "A-Y参考現在価格差： 5372 円\n",
      "参考現在利益率： 537200.0 %\n",
      "=== ヤフオク商品ページを開きます ===\n",
      "\n",
      "ヤフオク商品名： SALONIA◆SALONIA/ドライヤー・ヘアアイロン スピーディーイオンドライヤー SL-013BK [BLACK]\n",
      "ヤフオク現在価格： 4290 円\n",
      "A-Y参考現在価格差： 1083 円\n",
      "参考現在利益率： 25.2 %\n",
      "=== ヤフオク商品ページを開きます ===\n",
      "\n",
      "ヤフオク商品名： SALONIA◆ドライヤー・ヘアアイロン スピーディーイオンドライヤー SL-013BK [BLACK]\n",
      "ヤフオク現在価格： 4290 円\n",
      "A-Y参考現在価格差： 1083 円\n",
      "参考現在利益率： 25.2 %\n",
      "=== ヤフオク商品ページを開きます ===\n",
      "\n",
      "ヤフオク商品名： サロニア スピーディーイオンドライヤー SL-013BK ブラック【PSEマークあり】【訳あり※折りまげ部分ゆるみ有】58 00064\n",
      "ヤフオク現在価格： 4000 円\n",
      "A-Y参考現在価格差： 1373 円\n",
      "参考現在利益率： 34.3 %\n",
      "=== ヤフオク商品ページを開きます ===\n",
      "\n",
      "ヤフオク商品名： ★sr0567　SALONIA　スピーディーイオンドライヤー　SL-013BK　ブラック　温風3モード　サロニア　マイナスイオン　速乾　家電製品★\n",
      "ヤフオク現在価格： 2800 円\n",
      "A-Y参考現在価格差： 2573 円\n",
      "参考現在利益率： 91.9 %\n",
      "=== ヤフオク商品ページを開きます ===\n",
      "\n",
      "ヤフオク商品名： 送料無料h46516 SALONIA SPEEDY ION DRYER サロニア スピーディーイオンドライヤー SL-013BK ブラック\n",
      "ヤフオク現在価格： 2461 円\n",
      "A-Y参考現在価格差： 2912 円\n",
      "参考現在利益率： 118.3 %\n",
      "=== ヤフオク商品ページを開きます ===\n",
      "\n",
      "ヤフオク商品名： SALONIA ドライヤー SL-013BK サロニア\n",
      "ヤフオク現在価格： 2800 円\n",
      "A-Y参考現在価格差： 2573 円\n",
      "参考現在利益率： 91.9 %\n",
      "=== ヤフオク商品ページを開きます ===\n",
      "\n",
      "-\n"
     ]
    }
   ],
   "source": [
    "# Amazon商品＋ヤフオク商品群の基点要素を取得する\n",
    "amazon_yafuoku_item_list = browser.find_elements(By.XPATH, '//div[@data-component-type=\"s-search-result\"]')\n",
    "# print(item_list)\n",
    "\n",
    "# 親要素内の情報を取得する\n",
    "for elem in amazon_yafuoku_item_list:\n",
    "    \n",
    "    # Amazon商品名\n",
    "    amazon_name = elem.find_element(By.XPATH, './/h2//span').text\n",
    "    print('Amazon商品名：', amazon_name)\n",
    "    \n",
    "    # Amazon購入実績\n",
    "    try:\n",
    "        amazon_sold_num = elem.find_element(By.XPATH, './/span[contains(text(), \"購入されました\")]').text\n",
    "        print(amazon_sold_num)\n",
    "    except:\n",
    "        # print('▲ Amazon購入実績情報なし ▲')\n",
    "        pass\n",
    "\n",
    "    # Amazon価格\n",
    "    try:\n",
    "        amazon_price = int(elem.find_element(By.XPATH, './/span[@class=\"a-price-whole\"]').text.replace(',', ''))\n",
    "        # print('Amazon価格：', amazon_price, '円')\n",
    "    except:\n",
    "        print('▲ Amazon商品価格なし ▲')\n",
    "\n",
    "    print('　▽')\n",
    "\n",
    "    # Amazon商品URL\n",
    "    amazon_url = elem.find_element(By.XPATH, './/h2/a').get_attribute('href')\n",
    "    # print('Amazon商品URL：', amazon_url)\n",
    "    \n",
    "    # ヤフオク商品群の基点要素を取得する\n",
    "    yafuoku_item_list = elem.find_elements(By.XPATH, './/table[@class=\"table vmd ytable\"]')\n",
    "    \n",
    "    for elem in yafuoku_item_list:\n",
    "    \n",
    "        # ヤフオク商品名\n",
    "        try:\n",
    "            yafuoku_name = elem.find_element(By.XPATH, './/a[@class=\"__ylink\"]').text\n",
    "            print('ヤフオク商品名：', yafuoku_name)\n",
    "        except:\n",
    "            print('▲ 該当ヤフオク商品なし ▲')\n",
    "        \n",
    "        # ヤフオク現在価格\n",
    "        try:\n",
    "            yafuoku_price_now = int(elem.find_element(By.XPATH, './/div[contains(text(), \"現在\")]').text.replace('現在 : ￥', ''))\n",
    "            # print('ヤフオク現在価格：', yafuoku_price_now, '円')\n",
    "        except:\n",
    "            print('▲ ヤフオク現在価格なし ▲')\n",
    "\n",
    "        # # ヤフオク即決価格\n",
    "        # try:\n",
    "        #     yafuoku_price_final = int(elem.find_element(By.XPATH, './/div[contains(text(), \"即決\")]').text.replace('即決 : ￥', ''))\n",
    "        #     # print(yafuoku_price_final)\n",
    "        # except:\n",
    "        #     print('▲ ヤフオク即決価格なし ▲')\n",
    "\n",
    "        # # ヤフオク残り時間\n",
    "        # try:\n",
    "        #     yafuoku_item_left = elem.find_element(By.XPATH, './/div[contains(text(), \"残り\")]').text\n",
    "        #     print(yafuoku_item_left)\n",
    "        # except:\n",
    "        #     print('▲ ヤフオク残り時間情報なし ▲')\n",
    "\n",
    "        price_delta_now = amazon_price - yafuoku_price_now\n",
    "        # print('A-Y参考現在価格差：', price_delta_now, '円')\n",
    "\n",
    "        # price_delta_final = amazon_price - yafuoku_final_price\n",
    "        # print('A-Y即決価格差：', price_delta_final)\n",
    "\n",
    "        profit_rate_now = price_delta_now / yafuoku_price_now\n",
    "        # print('参考現在利益率：', round(profit_rate_now * 100, 1), '%')\n",
    "\n",
    "        # 利益率が 5% 以上なら\n",
    "        if profit_rate_now > 0.1:\n",
    "            # ヤフオク商品ページを開く\n",
    "            try:\n",
    "                elem.find_element(By.XPATH, './/a[@class=\"__ylink\"]').click()\n",
    "                print('=== ヤフオク商品ページを開きます ===')\n",
    "            except:\n",
    "                print('▲ ヤフオク商品ページを開けませんでした ▲')                \n",
    "        else:\n",
    "            print('▲ 利益を見込めないためヤフオク商品ページを開きませんでした ▲')\n",
    "\n",
    "        print('')\n",
    "\n",
    "    print('-')\n",
    "    break"
   ]
  },
  {
   "cell_type": "markdown",
   "id": "2b797499-d0ad-4ee6-8ffc-372e1dbcd4ef",
   "metadata": {},
   "source": [
    "## ヤフオクページから情報を取得する"
   ]
  },
  {
   "cell_type": "code",
   "execution_count": 623,
   "id": "56c0f5fd-5cbf-489e-b71f-66d38da91ee3",
   "metadata": {},
   "outputs": [
    {
     "name": "stdout",
     "output_type": "stream",
     "text": [
      "['8856A3EB0B23D6AFF994EFC79AA31CFD', 'CE9D124FA3764CB56C8A3698B7BCFD05', 'EA1F127D66F592F0B46F6C2191EB1267', '60BF52C790BC88F8073C99A8B330ECFC', 'CDF4018A964461975D3EF2B92D0703F3', 'B846C23B532D298376F5C82664DD7442', 'B274FA4FEFB2CCAC4E8511B299CE59B6']\n",
      "B274FA4FEFB2CCAC4E8511B299CE59B6\n",
      "最新のヤフオク商品ページをアクティブにしました\n"
     ]
    }
   ],
   "source": [
    "# 開いているすべてのウィンドウハンドラを取得（リスト形式）し、最後のウィンドウをアクティブにする\n",
    "handle_array = browser.window_handles\n",
    "print(handle_array)\n",
    "browser.switch_to.window(handle_array[-1])\n",
    "\n",
    "# ヤフオク商品ページのウィンドウハンドラの保持　→　不要っぽい\n",
    "yafuoku_window = browser.current_window_handle\n",
    "print(yafuoku_window)\n",
    "print('最新のヤフオク商品ページをアクティブにしました')"
   ]
  },
  {
   "cell_type": "code",
   "execution_count": null,
   "id": "eaa295f6-87a8-4872-9b96-00be99bc050b",
   "metadata": {},
   "outputs": [],
   "source": [
    "# 【動作テスト用】\n",
    "# Amazonページから続けて行う場合はこのセルの実行は不要\n",
    "\n",
    "# from selenium import webdriver\n",
    "# from selenium.webdriver.common.by import By\n",
    "# from selenium.webdriver.common.keys import Keys\n",
    "# import chromedriver_binary\n",
    "# import datetime\n",
    "# import time\n",
    "# import re # 正規表現用\n",
    "# import pandas as pd\n",
    "\n",
    "# #ブラウザの設定\n",
    "# chrome_options = webdriver.ChromeOptions()\n",
    "# # options.add_argument('--headless')\n",
    "# chrome_options.add_argument('--no-sandbox')\n",
    "# chrome_options.add_argument('--disable-dev-shm-usage')\n",
    "# # 拡張機能 Resale Trap を有効にする　staff2@polyphony.tokyo／Muzaiko20230606\n",
    "# chrome_options.add_extension(r'C:\\Users\\amuza\\OneDrive\\Documents\\Python-study\\ec_scraping\\extensions/resaletrap_3.0.9.crx')\n",
    "# # Chromeを起動するためのオプションにプロファイルを追加する\n",
    "# chrome_options.add_argument(r'--user-data-dir=C:\\Users\\amuza\\OneDrive\\Documents\\Python-study\\ec_scraping\\profile')\n",
    "\n",
    "# #ブラウザの起動する\n",
    "# browser = webdriver.Chrome(r'C:\\Users\\amuza\\OneDrive\\Documents\\Python-study\\ec_scraping\\chromedriver.exe', options=chrome_options)\n",
    "\n",
    "# # ヤフオク商品ページを開く\n",
    "# # url = 'https://page.auctions.yahoo.co.jp/jp/auction/v1094580770' $ 固定入力の場合\n",
    "# print('▼ 対象URLを入力してください') # 標準入力の場合\n",
    "# url = input()\n",
    "# browser.get(url)"
   ]
  },
  {
   "cell_type": "code",
   "execution_count": null,
   "id": "ca2b8f72-0ee2-45ef-acb8-2ec1bb036f3c",
   "metadata": {},
   "outputs": [],
   "source": [
    "# 【動作テスト用】\n",
    "# ページを直接開く\n",
    "# browser.get('https://page.auctions.yahoo.co.jp/jp/auction/h1089535961')"
   ]
  },
  {
   "cell_type": "code",
   "execution_count": 624,
   "id": "660a82b8-9383-44ca-b02c-d42611be1450",
   "metadata": {},
   "outputs": [
    {
     "name": "stdout",
     "output_type": "stream",
     "text": [
      "ヤフオク商品名： サロニア スピーディーイオンドライヤー SL-013BK ブラック【PSEマークあり】【訳あり※折りまげ部分ゆるみ有】58 00064\n"
     ]
    }
   ],
   "source": [
    "# ヤフオク商品名　※ Amazon画面で取得済\n",
    "yafuoku_name = browser.find_element(By.XPATH, '//h1').text\n",
    "print('ヤフオク商品名：', yafuoku_name)"
   ]
  },
  {
   "cell_type": "code",
   "execution_count": 625,
   "id": "fd4713ef-1deb-44d7-80ba-7d100dde91c2",
   "metadata": {},
   "outputs": [
    {
     "name": "stdout",
     "output_type": "stream",
     "text": [
      "匿名配送： 匿名配送なし\n"
     ]
    }
   ],
   "source": [
    "# ・出品者が「匿名配送」希望でないこと\n",
    "# →　商品ページのタイトルに「匿名配送」アイコンがないことで判定\n",
    "try:\n",
    "    # 匿名配送だったらその時点で情報取得をやめて画面を閉じる\n",
    "    privacy = browser.find_element(By.XPATH, '//span[@class=\"Icon Icon--privacy\"]').text # 匿名配送の場合\n",
    "    print('▲ 匿名配送のため本商品の情報収集を終了します。ヤフオク商品ページのウィンドウハンドラの取得から再実行してください ▲')\n",
    "    # browser.close()\n",
    "except:\n",
    "    privacy = '匿名配送なし'\n",
    "    print('匿名配送：', privacy)"
   ]
  },
  {
   "cell_type": "code",
   "execution_count": 626,
   "id": "9c668c87-ddf0-4454-b5fa-30a855fd4233",
   "metadata": {},
   "outputs": [
    {
     "name": "stdout",
     "output_type": "stream",
     "text": [
      "ヤフオク商品URL： https://page.auctions.yahoo.co.jp/jp/auction/l1094007746\n"
     ]
    }
   ],
   "source": [
    "# アクティブウィンドウ（ヤフオク商品ページ）のURLを取得する\n",
    "yafuoku_url = browser.current_url\n",
    "print('ヤフオク商品URL：', yafuoku_url)"
   ]
  },
  {
   "cell_type": "code",
   "execution_count": 627,
   "id": "93db749b-1443-4e8e-92b0-510371386661",
   "metadata": {},
   "outputs": [
    {
     "name": "stdout",
     "output_type": "stream",
     "text": [
      "ヤフオク現在価格： 4000円（税0円）\n",
      "ヤフオク現在価格(int)： 4000\n"
     ]
    }
   ],
   "source": [
    "# ヤフオク現在価格　※ Amazon画面で取得済\n",
    "yafuoku_price_now = browser.find_element(By.XPATH, '//dd[@class=\"Price__value\"]').text.replace(' ', '').replace(',', '')\n",
    "print('ヤフオク現在価格：', yafuoku_price_now)\n",
    "\n",
    "if '税込' in yafuoku_price_now:\n",
    "    yafuoku_price_now_int = int(yafuoku_price_now.replace('税込', '／').replace('円）', '').split('／')[1])\n",
    "else:\n",
    "    yafuoku_price_now_int = int(yafuoku_price_now.split('円')[0])\n",
    "\n",
    "print('ヤフオク現在価格(int)：', yafuoku_price_now_int)"
   ]
  },
  {
   "cell_type": "code",
   "execution_count": 628,
   "id": "01c064a5-df10-4145-8715-95dd0d1132e4",
   "metadata": {},
   "outputs": [
    {
     "name": "stdout",
     "output_type": "stream",
     "text": [
      "状態： やや傷や汚れあり\n"
     ]
    }
   ],
   "source": [
    "state = browser.find_element(By.XPATH, '//th[contains(text(), \"状態\")]/following-sibling::td/a').text\n",
    "print('状態：', state)"
   ]
  },
  {
   "cell_type": "code",
   "execution_count": 629,
   "id": "9108ef96-b84f-4c71-a867-c4bcc090cf8f",
   "metadata": {},
   "outputs": [
    {
     "name": "stdout",
     "output_type": "stream",
     "text": [
      "入札数： 0件\n"
     ]
    }
   ],
   "source": [
    "bidnum = browser.find_elements(By.XPATH, '//span[@class=\"Count__detail\"]')[0].text\n",
    "print('入札数：', bidnum)"
   ]
  },
  {
   "cell_type": "code",
   "execution_count": 630,
   "id": "41d556c1-a04f-436d-a6fa-5f56ec17d653",
   "metadata": {},
   "outputs": [
    {
     "name": "stdout",
     "output_type": "stream",
     "text": [
      "評価： 99.6%\n",
      "評価(int)： 99\n"
     ]
    }
   ],
   "source": [
    "# ・出品者の評価が97％以上\n",
    "# →　商品ページの出品者欄の「○○%」で判定\n",
    "seller_rating = browser.find_element(By.XPATH, '//div[@class=\"Seller__ratingRatio\"]').text\n",
    "print('評価：', seller_rating)\n",
    "\n",
    "seller_rating_int = int(seller_rating.split('.')[0].replace('%', ''))\n",
    "print('評価(int)：', seller_rating_int)\n",
    "\n",
    "# 評価が 97% 未満だったらその時点で情報取得をやめて画面を閉じる\n",
    "if seller_rating_int < 97:\n",
    "    print('▲ 匿名配送のため本商品の情報収集を終了します。次のヤフオク商品ページのウィンドウハンドラの取得から再実行してください ▲')\n",
    "    # browser.close()"
   ]
  },
  {
   "cell_type": "code",
   "execution_count": 631,
   "id": "0b784f10-a51e-4b29-a66a-71cfb42842fe",
   "metadata": {},
   "outputs": [
    {
     "name": "stdout",
     "output_type": "stream",
     "text": [
      "評価数： 739\n"
     ]
    }
   ],
   "source": [
    "# 評価数は多い方が望ましい\n",
    "seller_rating_num = browser.find_element(By.XPATH, '//a[@class=\"Seller__ratingLink\"]').text\n",
    "print('評価数：', seller_rating_num)"
   ]
  },
  {
   "cell_type": "code",
   "execution_count": 632,
   "id": "65f6a1b9-2d2c-4dbd-b6fe-34e602f43e3c",
   "metadata": {},
   "outputs": [
    {
     "name": "stdout",
     "output_type": "stream",
     "text": [
      "送料負担： 出品者送料無料\n",
      "配送方法(詳細)： 飛脚宅配便（佐川急便）\n",
      "送料(詳細)： 無料\n",
      "発送元：北海道\n",
      "発送開始： 支払い手続きから3～7日で発送\n",
      "送料(地域込)： 情報なし\n"
     ]
    }
   ],
   "source": [
    "# 送料の「詳細」ポップアップから配送情報を取得する\n",
    "\n",
    "# 送料の「詳細」をクリックする\n",
    "# ● 「詳細」ポップアップを開く必要はないのかも\n",
    "# →　ポップアップを開かないとエラーになる\n",
    "browser.find_element(By.XPATH, '//a[@id=\"postageDetailCurrent\"]').click()\n",
    "browser.implicitly_wait(1)\n",
    "# 配送先から「青森県」を選ぶ\n",
    "browser.find_element(By.XPATH, '//option[contains(text(), \"青森県\")]').click()\n",
    "browser.implicitly_wait(1)\n",
    "\n",
    "postage_due = browser.find_element(By.XPATH, '//dt[contains(text(), \"送料負担\")]/following-sibling::dd').text\n",
    "print('送料負担：', postage_due)\n",
    "\n",
    "# 配送情報を取得する\n",
    "try:\n",
    "    shipping = browser.find_element(By.XPATH, '//dt[@class=\"BidModal__postageName\"]').text\n",
    "    print('配送方法(詳細)：', shipping)\n",
    "\n",
    "    postage_1 = browser.find_element(By.XPATH, '//div[@class=\"BidModal__postagePrice\"]').text\n",
    "    print('送料(詳細)：', postage_1)\n",
    "\n",
    "    postage_int = int(postage_1.replace('円（税込）', ''))\n",
    "    print('送料(int)：', postage_int)\n",
    "except:\n",
    "    pass\n",
    "\n",
    "# 「✕」をクリックしてポップアップを閉じる\n",
    "browser.find_element(By.XPATH, '//div[@class=\"BidModal__box BidModal__box--postage js-modal-box\"]//a[contains(text(), \"閉じる\")]').click()\n",
    "\n",
    "postage_from = browser.find_element(By.XPATH, '//p[@class=\"Price__postageFrom\"]').text\n",
    "print(postage_from)\n",
    "\n",
    "try:\n",
    "    send_date = browser.find_element(By.XPATH, '//dt[contains(text(), \"発送開始\")]/following-sibling::dd').text\n",
    "except:\n",
    "    send_date = '情報なし'\n",
    "finally:\n",
    "    print('発送開始：', send_date)\n",
    "\n",
    "try:\n",
    "    postage_2 = browser.find_element(By.XPATH, '//span[@class=\"Price__postageValue\"]').text\n",
    "except:\n",
    "    postage_2 = '情報なし'\n",
    "finally:\n",
    "    print('送料(地域込)：', postage_2)"
   ]
  },
  {
   "cell_type": "code",
   "execution_count": 633,
   "id": "d1b126cf-3adf-454f-820b-07e5ffccf2d6",
   "metadata": {},
   "outputs": [
    {
     "name": "stdout",
     "output_type": "stream",
     "text": [
      "商品説明： ◆◆◆　必ずご確認ください　◆◆◆\n",
      "\n",
      "当店ではネット通販で返品された商品などを主に扱っており、全てアウトレット品扱いとなります。\n",
      "簡易的なクリーニングのみ行って出品しておりますので、本体・パッケージ・付属品等に記載以外の軽微な汚れや傷みがある場合がございます。\n",
      "\n",
      "\n",
      "商品詳細\n",
      "確認内容：\n",
      "・製品から温風/冷風が出てくる事を確認しております。\n",
      "・TURBO/SET/COOL/OFFのスイッチ切替が正常にできる事を\n",
      "確認しております。\n",
      "\n",
      "\n",
      "[商品状態]\n",
      "・ハンドルの折りたたみ部分がゆるく、\n",
      "吹き出し口が下に向てしまうことがあります。\n",
      "※上記の理由により、訳あり品となります。\n",
      "\n",
      "・箱に、凹みがあります。\n",
      "\n",
      "\n",
      "[内容物]\n",
      "・本体\n",
      "・ノズル(取り外し可能)\n",
      "・取扱説明書\n",
      "\n",
      "※商品画像に写っているものが全てとなります。\n",
      "※「傷や汚れあり」「全体的に状態が悪い」の商品状態では経年劣化・使用感による傷・汚れがある場合があります。\n",
      "※プロダクトキー付属商品の場合、使用可否は確認しておりません。キーが使用できないことが理由でのご返金にはご対応致しかねます。\n",
      "\n",
      "商品仕様\n",
      "メーカー：サロニア\n",
      "型番：SL-013BK\n",
      "梱包サイズ：横幅(約) 14㎝×奥行(約) 14.5㎝×高さ(約) 9㎝\n",
      "\n",
      "本体素材：PC(ポリカーボネート)\n",
      "定格電圧：100V\n",
      "定格消費電力：1200W(TURBO時)\n",
      "定格周波数：50/60Hz\n",
      "コード長：約1.7m\n",
      "\n",
      "\n",
      "------------------------------------------------------------------------\n",
      "\n",
      "・すべての商品が保障対象外となります。\n",
      "※付属の保証書については各メーカーにお問い合わせください。\n",
      "\n",
      "・専門的な質問には、お答え出来ない場合がございます。\n",
      "\n",
      "・現状での発送となりますので、神経質な方はご入札をご遠慮ください。\n",
      "\n",
      "・返品はページに表示のない重大な欠陥があり、\n",
      "商品到着後7日以内にご連絡頂いた場合のみご対応致します。\n",
      "\n",
      "※お取引の流れはヤフオクヘルプ等をご確認ください。\n",
      "\n",
      "支払詳細\n",
      "・かんたん決済\n",
      "※その他のお支払いにはご対応しておりません。\n",
      "発送詳細\n",
      "※沖縄・離島は別途送料がかかります。\n",
      "\n",
      "・送料無料（沖縄・離島は除く）\n",
      "ゆうパケット若しくは佐川急便\n",
      "\n",
      "※沖縄・離島：ゆうパックの正規料金を頂戴いたします\n",
      "\n",
      "※発送方法のご指定は一切受け付けておりません\n",
      "注意事項\n",
      "・営業日：平日10時～17時\n",
      "\n",
      "・落札後、かんたん決済期限内にご入金いただけない場合には\n",
      "キャンセルとさせていただきます。\n",
      "\n",
      "・著しく評価の悪い方は入札を取消しにさせて頂く場合がございますので\n",
      "ご了承ください。\n",
      "\n",
      "※以上の点をご理解くださる方のご入札をお願い致します。\n"
     ]
    }
   ],
   "source": [
    "# 商品説明文を取得する\n",
    "# この内容を基に配送業者情報、営業所止め情報、直接取引情報、着払い情報などを取りたい\n",
    "yafuoku_info = browser.find_element(By.XPATH, '//div[@class=\"ProductExplanation__commentArea\"]').text\n",
    "print('商品説明：', yafuoku_info)"
   ]
  },
  {
   "cell_type": "code",
   "execution_count": 634,
   "id": "bb67f0d3-8e8a-45f5-b66e-a805bae3e5e2",
   "metadata": {},
   "outputs": [],
   "source": [
    "# 【動作テスト用】\n",
    "# 正規表現での文字列検索\n",
    "\n",
    "# Pythonで文字列を抽出（位置・文字数、正規表現） 　\n",
    "# https://note.nkmk.me/python-str-extract/\n",
    "\n",
    "# 【Python】文字列を検索・抽出する方法【in演算子、findメソッド、正規表現】\n",
    "# https://python-academia.com/python-str-extract/\n",
    "\n",
    "# import re\n",
    "\n",
    "# s = '直接取引限定　直接取り引き限定　直接取引のみ　直接引き取りのみ　要直接引き渡し　直接取引可能　営業所止め限定　営業所止め可能　営業所止め不可　着払い　着払い希望　着払い可能'\n",
    "\n",
    "# print(re.findall('直接.?.?.?.?.?.?', s))\n",
    "# print(re.findall('営業所.?.?.?.?', s))\n",
    "# print(re.findall('着払い.?.?.?.?', s))\n",
    "\n",
    "# print('直接取引限定：', '直接取引限定' in s)\n",
    "# print('営業所止め：', '営業所止め' in s)\n",
    "# print('着払い：', '着払い' in s)"
   ]
  },
  {
   "cell_type": "code",
   "execution_count": 635,
   "id": "a2c1c6ff-26d4-4730-b5a5-578514cdb176",
   "metadata": {},
   "outputs": [
    {
     "name": "stdout",
     "output_type": "stream",
     "text": [
      "直接引取(商品名)： []\n",
      "直接引取(商品説明)： []\n",
      "手渡し(商品説明) []\n"
     ]
    }
   ],
   "source": [
    "# ・直接引き取り限定でないこと\n",
    "# →　商品タイトルおよび商品説明文に「直接取引のみ」などの単語がないことで判定\n",
    "# →　▲ テキストマイニングを活用するとよい？？？\n",
    "# →　いったん大丈夫そう\n",
    "\n",
    "# 商品名判定\n",
    "print('直接引取(商品名)：', re.findall('.*直接.*引.*', yafuoku_name))\n",
    "\n",
    "# 商品説明判定\n",
    "print('直接引取(商品説明)：', re.findall('.*直接.*引.*', yafuoku_info))\n",
    "print('手渡し(商品説明)', re.findall('.*手渡.*', yafuoku_info))\n",
    "\n",
    "# print('直接取引(商品説明)：', '直接取引' in yafuoku_info)"
   ]
  },
  {
   "cell_type": "code",
   "execution_count": 636,
   "id": "76d16d3e-cb67-422e-be84-f9468884d27d",
   "metadata": {},
   "outputs": [
    {
     "name": "stdout",
     "output_type": "stream",
     "text": [
      "送料負担： 出品者送料無料\n",
      "着払(商品名)： []\n",
      "着払(商品説明)： []\n"
     ]
    }
   ],
   "source": [
    "# ・配送が着払いでないこと\n",
    "# →　「送料負担」が「出品者」であること OR 配送情報詳細や商品説明に「着払い」とないこと\n",
    "\n",
    "print('送料負担：', postage_due) # 上で取得済\n",
    "\n",
    "# 商品名判定\n",
    "print('着払(商品名)：', re.findall('.*着払.*', yafuoku_name))\n",
    "\n",
    "# 商品説明判定\n",
    "print('着払(商品説明)：', re.findall('.*着払.*', yafuoku_info))"
   ]
  },
  {
   "cell_type": "code",
   "execution_count": 637,
   "id": "ff69e3a3-566d-4866-a2ae-3d362c8ccc01",
   "metadata": {},
   "outputs": [
    {
     "name": "stdout",
     "output_type": "stream",
     "text": [
      "ヤマト(商品名)： []\n",
      "ヤマト(商品説明)： []\n",
      "らくらく家財便(商品説明)： []\n",
      "佐川(商品説明) ['ゆうパケット若しくは佐川急便']\n",
      "日本郵便(商品説明) []\n",
      "日本郵便(商品説明) ['ゆうパケット若しくは佐川急便', '※沖縄・離島：ゆうパックの正規料金を頂戴いたします']\n",
      "営業所止め(商品説明) []\n"
     ]
    }
   ],
   "source": [
    "# ・配送がヤマト、佐川、日本郵便などであること（直接エンドユーザーまで届けられること、一部運送会社だと営業所留めがあるため）\n",
    "# ・営業所止めでないこと\n",
    "# →　商品説明文に「営業所度止め」などの単語がないことで判定。「らくらく家財便」だと安心\n",
    "\n",
    "# 商品名判定\n",
    "print('ヤマト(商品名)：', re.findall('.*ヤマト.*', yafuoku_name))\n",
    "\n",
    "# 商品説明判定\n",
    "print('ヤマト(商品説明)：', re.findall('.*ヤマト.*', yafuoku_info))\n",
    "print('らくらく家財便(商品説明)：', re.findall('.*らくらく.*', yafuoku_info))\n",
    "print('佐川(商品説明)', re.findall('.*佐川.*', yafuoku_info))\n",
    "print('日本郵便(商品説明)', re.findall('.*日本郵便.*', yafuoku_info))\n",
    "print('日本郵便(商品説明)', re.findall('.*ゆう.*', yafuoku_info))\n",
    "print('営業所止め(商品説明)', re.findall('.*止め.*', yafuoku_info))"
   ]
  },
  {
   "cell_type": "code",
   "execution_count": 638,
   "id": "30b665b1-906e-4037-b3a6-3b671147b588",
   "metadata": {},
   "outputs": [
    {
     "name": "stdout",
     "output_type": "stream",
     "text": [
      "訳あり(商品名)： ['サロニア スピーディーイオンドライヤー SL-013BK ブラック【PSEマークあり】【訳あり※折りまげ部分ゆるみ有】58 00064']\n",
      "訳あり(商品説明)： ['※上記の理由により、訳あり品となります。']\n"
     ]
    }
   ],
   "source": [
    "# 訳あり品でないこと（下遠野追加）\n",
    "\n",
    "# 商品名判定\n",
    "print('訳あり(商品名)：', re.findall('.*訳.*', yafuoku_name))\n",
    "\n",
    "# 商品説明判定\n",
    "print('訳あり(商品説明)：', re.findall('.*訳.*', yafuoku_info))"
   ]
  },
  {
   "cell_type": "code",
   "execution_count": 639,
   "id": "713c158e-cad3-4110-ad36-bda2cd9505e8",
   "metadata": {},
   "outputs": [
    {
     "name": "stdout",
     "output_type": "stream",
     "text": [
      "残り日数(画面表示)： 1日\n",
      "終了予定(str型)： 2023.06.15（木）12:27\n",
      "終了予定(datetime型)： 2023-06-15 12:27:00\n",
      "現在時刻： 2023-06-14 02:41:55\n",
      "残り時間(詳細計算)： 1 day, 9:45:04.767031\n"
     ]
    }
   ],
   "source": [
    "# オークションの残り日数が一定数あること\n",
    "# →　商品ページ内の残り時間やオークション終了用低日時で判定\n",
    "\n",
    "auc_timeleft = browser.find_elements(By.XPATH, '//span[@class=\"Count__detail\"]')[1].text\n",
    "print('残り日数(画面表示)：', auc_timeleft)\n",
    "\n",
    "auc_enddatetime = browser.find_element(By.XPATH, '//th[contains(text(), \"終了日時\")]/following-sibling::td').text\n",
    "print('終了予定(str型)：', auc_enddatetime)\n",
    "\n",
    "auc_enddate = auc_enddatetime.split('（')[0]\n",
    "auc_endtime = auc_enddatetime.split('）')[1]\n",
    "auc_end = auc_enddate + ' ' + auc_endtime\n",
    "auc_enddatetime = datetime.datetime.strptime(auc_end, '%Y.%m.%d %H:%M')\n",
    "print('終了予定(datetime型)：', auc_enddatetime)\n",
    "# print(type(auc_enddatetime))\n",
    "\n",
    "dt_now = datetime.datetime.now()\n",
    "print('現在時刻：', dt_now.strftime('%Y-%m-%d %H:%M:%S'))\n",
    "\n",
    "auc_time_left = auc_enddatetime - dt_now\n",
    "print('残り時間(詳細計算)：', auc_time_left)"
   ]
  },
  {
   "cell_type": "code",
   "execution_count": 641,
   "id": "f9b893bd-0be7-4631-815f-0034fad01bfe",
   "metadata": {},
   "outputs": [
    {
     "name": "stdout",
     "output_type": "stream",
     "text": [
      "A-Y現在利益(ヤフオク送料込)： 603 円　※Amazon出品手数料は含まれていません\n"
     ]
    }
   ],
   "source": [
    "# アマゾンでの販売価格が適切に収まること\n",
    "# →　新品価格を下回っていることで判定\n",
    "profit = amazon_price - yafuoku_price_now_int - postage_int\n",
    "print('A-Y現在利益(ヤフオク送料込)：', profit, '円　※Amazon出品手数料は含まれていません')"
   ]
  },
  {
   "cell_type": "code",
   "execution_count": 642,
   "id": "0ce34ef4-ce48-4a46-a6b4-9f7d6963824a",
   "metadata": {},
   "outputs": [
    {
     "name": "stdout",
     "output_type": "stream",
     "text": [
      "現在利益率(ヤフオク送料込)： 15.1 %　※Amazon出品手数料は含まれていません\n"
     ]
    }
   ],
   "source": [
    "# ヤフオクとの価格差がある程度あること（利益が取れること）\n",
    "# →　ResaleTrapで判定するため本プログラムでは対応不要\n",
    "# →　▲ プログラム上でもできそう\n",
    "# →　Amazon 出品手数料が分からない\n",
    "profit_rate = round(profit / yafuoku_price_now_int * 100, 1)\n",
    "print('現在利益率(ヤフオク送料込)：', profit_rate, '%　※Amazon出品手数料は含まれていません')"
   ]
  },
  {
   "cell_type": "code",
   "execution_count": 643,
   "id": "cecc27e1-ef6d-4b20-8e21-0d43e205dd05",
   "metadata": {},
   "outputs": [
    {
     "name": "stdout",
     "output_type": "stream",
     "text": [
      "Amazon商品名： SALONIA サロニア | スピーディーイオン ドライヤー 【ブラック】 ヘアドライヤー 大風量 速乾 軽量 マイナスイオン 折り畳み式 冷温3段階調整\n",
      "過去1か月で5000点以上購入されました\n",
      "Amazon価格： 5373\n",
      "ヤフオク商品名： サロニア スピーディーイオンドライヤー SL-013BK ブラック【PSEマークあり】【訳あり※折りまげ部分ゆるみ有】58 00064\n",
      "ヤフオク現在価格： 4000\n",
      "送料(詳細)： 770\n",
      "送料(地域込)： 情報なし\n",
      "A-Y現在利益(ヤフオク送料込)： 603 ※Amazon出品手数料は含まれていません\n",
      "現在利益率(ヤフオク送料込)： 15.1 %　※Amazon出品手数料は含まれていません\n",
      "状態： やや傷や汚れあり\n",
      "入札数： 0件\n",
      "評価： 99.6%\n",
      "匿名配送： 匿名配送なし\n",
      "配送方法(詳細)： 飛脚宅配便（佐川急便）\n",
      "発送開始： 支払い手続きから3～7日で発送\n",
      "直接引取(商品説明)： []\n",
      "手渡し(商品説明) []\n",
      "送料負担： 出品者送料無料\n",
      "着払(商品説明)： []\n",
      "ヤマト(商品説明)： []\n",
      "らくらく家財便(商品説明)： []\n",
      "佐川(商品説明) ['ゆうパケット若しくは佐川急便']\n",
      "日本郵便(商品説明) ['ゆうパケット若しくは佐川急便', '※沖縄・離島：ゆうパックの正規料金を頂戴いたします']\n",
      "営業所止め(商品説明) []\n",
      "訳あり(商品名)： ['サロニア スピーディーイオンドライヤー SL-013BK ブラック【PSEマークあり】【訳あり※折りまげ部分ゆるみ有】58 00064']\n",
      "訳あり(商品説明)： ['※上記の理由により、訳あり品となります。']\n",
      "終了予定(datetime型)： 2023-06-15 12:27:00\n",
      "現在時刻： 2023-06-14 02:41:55\n",
      "残り時間(詳細計算)： 1 day, 9:45:04.767031\n",
      "----- 商品説明 ----------------------------------------------------\n",
      "◆◆◆　必ずご確認ください　◆◆◆\n",
      "\n",
      "当店ではネット通販で返品された商品などを主に扱っており、全てアウトレット品扱いとなります。\n",
      "簡易的なクリーニングのみ行って出品しておりますので、本体・パッケージ・付属品等に記載以外の軽微な汚れや傷みがある場合がございます。\n",
      "\n",
      "\n",
      "商品詳細\n",
      "確認内容：\n",
      "・製品から温風/冷風が出てくる事を確認しております。\n",
      "・TURBO/SET/COOL/OFFのスイッチ切替が正常にできる事を\n",
      "確認しております。\n",
      "\n",
      "\n",
      "[商品状態]\n",
      "・ハンドルの折りたたみ部分がゆるく、\n",
      "吹き出し口が下に向てしまうことがあります。\n",
      "※上記の理由により、訳あり品となります。\n",
      "\n",
      "・箱に、凹みがあります。\n",
      "\n",
      "\n",
      "[内容物]\n",
      "・本体\n",
      "・ノズル(取り外し可能)\n",
      "・取扱説明書\n",
      "\n",
      "※商品画像に写っているものが全てとなります。\n",
      "※「傷や汚れあり」「全体的に状態が悪い」の商品状態では経年劣化・使用感による傷・汚れがある場合があります。\n",
      "※プロダクトキー付属商品の場合、使用可否は確認しておりません。キーが使用できないことが理由でのご返金にはご対応致しかねます。\n",
      "\n",
      "商品仕様\n",
      "メーカー：サロニア\n",
      "型番：SL-013BK\n",
      "梱包サイズ：横幅(約) 14㎝×奥行(約) 14.5㎝×高さ(約) 9㎝\n",
      "\n",
      "本体素材：PC(ポリカーボネート)\n",
      "定格電圧：100V\n",
      "定格消費電力：1200W(TURBO時)\n",
      "定格周波数：50/60Hz\n",
      "コード長：約1.7m\n",
      "\n",
      "\n",
      "------------------------------------------------------------------------\n",
      "\n",
      "・すべての商品が保障対象外となります。\n",
      "※付属の保証書については各メーカーにお問い合わせください。\n",
      "\n",
      "・専門的な質問には、お答え出来ない場合がございます。\n",
      "\n",
      "・現状での発送となりますので、神経質な方はご入札をご遠慮ください。\n",
      "\n",
      "・返品はページに表示のない重大な欠陥があり、\n",
      "商品到着後7日以内にご連絡頂いた場合のみご対応致します。\n",
      "\n",
      "※お取引の流れはヤフオクヘルプ等をご確認ください。\n",
      "\n",
      "支払詳細\n",
      "・かんたん決済\n",
      "※その他のお支払いにはご対応しておりません。\n",
      "発送詳細\n",
      "※沖縄・離島は別途送料がかかります。\n",
      "\n",
      "・送料無料（沖縄・離島は除く）\n",
      "ゆうパケット若しくは佐川急便\n",
      "\n",
      "※沖縄・離島：ゆうパックの正規料金を頂戴いたします\n",
      "\n",
      "※発送方法のご指定は一切受け付けておりません\n",
      "注意事項\n",
      "・営業日：平日10時～17時\n",
      "\n",
      "・落札後、かんたん決済期限内にご入金いただけない場合には\n",
      "キャンセルとさせていただきます。\n",
      "\n",
      "・著しく評価の悪い方は入札を取消しにさせて頂く場合がございますので\n",
      "ご了承ください。\n",
      "\n",
      "※以上の点をご理解くださる方のご入札をお願い致します。\n"
     ]
    }
   ],
   "source": [
    "# 目視確認用の情報一覧表示\n",
    "print('Amazon商品名：', amazon_name)\n",
    "# print('Amazon商品URL：', amazon_url)\n",
    "print(amazon_sold_num)\n",
    "print('Amazon価格：', amazon_price)\n",
    "print('ヤフオク商品名：', yafuoku_name)\n",
    "# print('ヤフオク商品URL：', yafuoku_url)\n",
    "print('ヤフオク現在価格：', yafuoku_price_now_int)\n",
    "print('送料(詳細)：', postage_int)\n",
    "print('送料(地域込)：', postage_2)\n",
    "print('A-Y現在利益(ヤフオク送料込)：', profit, '※Amazon出品手数料は含まれていません')\n",
    "print('現在利益率(ヤフオク送料込)：', round(profit_rate, 1), '%　※Amazon出品手数料は含まれていません')\n",
    "print('状態：', state)\n",
    "print('入札数：', bidnum)\n",
    "print('評価：', seller_rating)\n",
    "print('匿名配送：', privacy)\n",
    "print('配送方法(詳細)：', shipping)\n",
    "# print('送料(詳細)：', postage_1)\n",
    "# print('送料(int)：', postage_int)\n",
    "print('発送開始：', send_date)\n",
    "# print('直接引取(商品名)：', re.findall('.*直接.*引.*', yafuoku_name))\n",
    "print('直接引取(商品説明)：', re.findall('.*直接.*引.*', yafuoku_info))\n",
    "print('手渡し(商品説明)', re.findall('.*手渡.*', yafuoku_info))\n",
    "print('送料負担：', postage_due)\n",
    "# print('着払(商品名)：', re.findall('.*着払.*', yafuoku_name))\n",
    "print('着払(商品説明)：', re.findall('.*着払.*', yafuoku_info))\n",
    "print('ヤマト(商品説明)：', re.findall('.*ヤマト.*', yafuoku_info))\n",
    "print('らくらく家財便(商品説明)：', re.findall('.*らくらく.*', yafuoku_info))\n",
    "print('佐川(商品説明)', re.findall('.*佐川.*', yafuoku_info))\n",
    "print('日本郵便(商品説明)', re.findall('.*ゆう.*', yafuoku_info))\n",
    "print('営業所止め(商品説明)', re.findall('.*止め.*', yafuoku_info))\n",
    "print('訳あり(商品名)：', re.findall('.*訳.*', yafuoku_name))\n",
    "print('訳あり(商品説明)：', re.findall('.*訳.*', yafuoku_info))\n",
    "print('終了予定(datetime型)：', auc_enddatetime)\n",
    "print('現在時刻：', dt_now.strftime('%Y-%m-%d %H:%M:%S'))\n",
    "print('残り時間(詳細計算)：', auc_time_left)\n",
    "print('----- 商品説明 ----------------------------------------------------')\n",
    "print(yafuoku_info)"
   ]
  },
  {
   "cell_type": "code",
   "execution_count": 644,
   "id": "671b1713-6ce8-4710-99ca-d18cef42dd66",
   "metadata": {},
   "outputs": [
    {
     "name": "stdout",
     "output_type": "stream",
     "text": [
      "◯ 評価\n",
      "◯ 匿名配送\n",
      "✕ 訳あり判定\n",
      "◯ 直接引取判定\n",
      "◯ 営業所止め判定\n",
      "◯ 着払い判定\n",
      "\n",
      "↑　出品判定： NG\n",
      "↓　以下の条件も判定してください\n",
      "\n",
      "Amazon価格： 5373 円\n",
      "ヤフオク現在価格： 4000 円\n",
      "ヤフオク送料： 770 円\n",
      "現在利益(ヤフオク送料込)： 603 円　※Amazon出品手数料は含まれていません\n",
      "現在利益率(ヤフオク送料込)： 15.1 %\n",
      "残り時間： 1.4 日\n"
     ]
    }
   ],
   "source": [
    "# 出品可否を判定する\n",
    "judge_flag = 'OK'\n",
    "\n",
    "# これ以降でNG判定だけを行えば良い。NGになったらフラグを 0 にして、最終的な値で判定する\n",
    "\n",
    "# 出品者の評価が97％以上\n",
    "if seller_rating_int >= 97:\n",
    "    print('◯ 評価')\n",
    "else:\n",
    "    print('✕ 評価')\n",
    "    judge_flag = 'NG'\n",
    "\n",
    "# 出品者が「匿名配送」希望でないこと\n",
    "if privacy != '匿名配送':\n",
    "    print('◯ 匿名配送')\n",
    "else:\n",
    "    print('✕ 匿名配送')\n",
    "    judge_flag = 'NG'\n",
    "    \n",
    "# 訳あり品でないこと\n",
    "if len(re.findall('.*訳.*', yafuoku_name)) == 0 and len(re.findall('.*訳.*', yafuoku_info)) == 0:\n",
    "    print('◯ 訳あり判定')\n",
    "else:\n",
    "    print('✕ 訳あり判定')\n",
    "    judge_flag = 'NG'\n",
    "\n",
    "# 直接引き取り限定でないこと\n",
    "if len(re.findall('.*直接.*引.*', yafuoku_name)) == 0 and len(re.findall('.*直接.*引.*', yafuoku_info)) == 0 and len(re.findall('手渡.{10}', yafuoku_info)) == 0:\n",
    "    print('◯ 直接引取判定')\n",
    "else:\n",
    "    print('✕ 訳あり判定')\n",
    "    judge_flag = 'NG'\n",
    "\n",
    "# 配送がヤマト、佐川、日本郵便などであること（直接エンドユーザーまで届けられること、一部運送会社だと営業所留めがあるため）\n",
    "if len(re.findall('.*止め.*', yafuoku_info)) == 0:\n",
    "    print('◯ 営業所止め判定')\n",
    "else:\n",
    "    print('✕ 営業所止め判定')\n",
    "    judge_flag = 'NG'\n",
    "    \n",
    "# 配送が着払いでないこと\n",
    "if len(re.findall('着払.*', yafuoku_name)) == 0 and len(re.findall('着払.*', yafuoku_info)) == 0:\n",
    "    print('◯ 着払い判定')\n",
    "else:\n",
    "    print('✕ 着払い判定')\n",
    "    judge_flag = 'NG'\n",
    "\n",
    "print('')\n",
    "print('↑　出品判定：', judge_flag)\n",
    "print('↓　以下の条件も判定してください')\n",
    "print('')\n",
    "\n",
    "# アマゾンでの販売価格が適切に収まること　→　Amazonページで開く時に判定済\n",
    "# ヤフオクとの価格差がある程度あること（利益が取れること）　→　Amazonページで開く時に判定済\n",
    "print('Amazon価格：', amazon_price, '円')\n",
    "print('ヤフオク現在価格：', yafuoku_price_now_int, '円')\n",
    "print('ヤフオク送料：', postage_int, '円')\n",
    "print('現在利益(ヤフオク送料込)：', profit, '円　※Amazon出品手数料は含まれていません')\n",
    "print('現在利益率(ヤフオク送料込)：', round(profit_rate, 1), '%')\n",
    "\n",
    "# オークションの残り日数が一定数あること\n",
    "print('残り時間：', round(auc_time_left / datetime.timedelta(days=1), 1), '日')"
   ]
  },
  {
   "cell_type": "code",
   "execution_count": 645,
   "id": "65ca1aa4-d718-4691-a4bd-7a3479c9f50a",
   "metadata": {},
   "outputs": [
    {
     "name": "stdout",
     "output_type": "stream",
     "text": [
      "この商品を出品しますか？( YES / NO )\n"
     ]
    },
    {
     "name": "stdin",
     "output_type": "stream",
     "text": [
      " YES\n"
     ]
    },
    {
     "name": "stdout",
     "output_type": "stream",
     "text": [
      "出品画面に進みます\n"
     ]
    }
   ],
   "source": [
    "# 出品（監視対象に追加する）に値するかを判定し、合格の場合は出品する\n",
    "# とりあえずは目視チェックにしてみる\n",
    "\n",
    "print('この商品を出品しますか？( YES / NO )')\n",
    "\n",
    "while True:\n",
    "    sell_flag = input()\n",
    "\n",
    "    if sell_flag == 'YES':\n",
    "        # 「監視対象に追加する」をクリックする。新しいウィンドウでヤフオクの商品ページが開かれる\n",
    "        browser.find_element(By.XPATH, '//a[contains(text(), \"監視対象に追加する\")]').click()\n",
    "        print('出品画面に進みます')\n",
    "        break\n",
    "    elif sell_flag == 'NO':\n",
    "        print('出品を取りやめます。ヤフオク商品ページのウィンドウハンドラの取得から再実行してください')\n",
    "        # browser.close()\n",
    "        break\n",
    "    else:\n",
    "        print('YES か NO を入力してください')"
   ]
  },
  {
   "cell_type": "code",
   "execution_count": 646,
   "id": "51e717b4-7398-42b6-a4b8-18f172caf699",
   "metadata": {},
   "outputs": [
    {
     "name": "stdout",
     "output_type": "stream",
     "text": [
      "ResaleTrap のページをアクティブにしました\n"
     ]
    }
   ],
   "source": [
    "# 開いているすべてのウィンドウハンドルを取得（リスト形式）し、新しいウィンドウ（ResaleTrap管理画面）をアクティブにする\n",
    "handle_array = browser.window_handles\n",
    "# print(handle_array)\n",
    "browser.switch_to.window(handle_array[-1])\n",
    "\n",
    "# ResaleTrapページのウィンドウハンドラの保持　→　なくても大丈夫っぽい\n",
    "resaletrap_window = browser.current_window_handle\n",
    "# print(resaletrap_window)\n",
    "print('ResaleTrap のページをアクティブにしました')"
   ]
  },
  {
   "cell_type": "code",
   "execution_count": 647,
   "id": "ce88d589-730a-4e06-ba80-38bfe209c93f",
   "metadata": {},
   "outputs": [
    {
     "name": "stdout",
     "output_type": "stream",
     "text": [
      "送料を設定しました\n",
      "金額が「0」の部分、Sub Condition、商品説明を入力してください\n"
     ]
    }
   ],
   "source": [
    "# ■ ここは手入力かなぁ・・・\n",
    "\n",
    "# 出品情報を設定する\n",
    "# 予想落札価格\n",
    "browser.find_elements(By.XPATH, '//input')[0].send_keys(Keys.CONTROL,\"a\")\n",
    "browser.find_elements(By.XPATH, '//input')[0].send_keys('0')\n",
    "\n",
    "# 送料\n",
    "browser.find_elements(By.XPATH, '//input')[1].send_keys(Keys.CONTROL,\"a\")\n",
    "browser.find_elements(By.XPATH, '//input')[1].send_keys(postage_int)\n",
    "print('送料を設定しました')\n",
    "\n",
    "# 利益額　※ 利益「率」とのどちらか一方を選択\n",
    "# browser.find_elements(By.XPATH, '//input')[2].send_keys(Keys.CONTROL,\"a\")\n",
    "# browser.find_elements(By.XPATH, '//input')[2].send_keys('0')\n",
    "\n",
    "# 利益率　※ 利益「額」とのどちらか一方を選択\n",
    "# browser.find_elements(By.XPATH, '//input')[3].send_keys(Keys.CONTROL,\"a\")\n",
    "# browser.find_elements(By.XPATH, '//input')[3].send_keys('0')\n",
    "\n",
    "# リードタイム\n",
    "# browser.find_elements(By.XPATH, '//input')[4].send_keys(Keys.CONTROL,\"a\")\n",
    "# browser.find_elements(By.XPATH, '//input')[4].send_keys('0')\n",
    "\n",
    "# 販売価格\n",
    "# browser.find_elements(By.XPATH, '//input')[5].send_keys(Keys.CONTROL,\"a\")\n",
    "# browser.find_elements(By.XPATH, '//input')[5].send_keys('0')\n",
    "\n",
    "# Sub Condition\n",
    "# ■ これを選択した後に別の項目に移るとデフォルト値に戻ってしまう\n",
    "# browser.find_element(By.XPATH, '//option[@value=\"24\"]').click()\n",
    "\n",
    "# 商品説明　直接入力 OR テンプレート選択\n",
    "# browser.find_elements(By.XPATH, '//textarea').send_keys(Keys.CONTROL,\"a\") # エラー「AttributeError: 'list' object has no attribute 'send_keys'」\n",
    "# browser.find_elements(By.XPATH, '//textarea').send_keys(yafuoku_info)\n",
    "# print('商品説明を設定しました')\n",
    "\n",
    "print('金額が「0」の部分、Sub Condition、商品説明を入力してください')"
   ]
  },
  {
   "cell_type": "code",
   "execution_count": null,
   "id": "010df6f5-7f32-46f5-88a0-98347bc2373e",
   "metadata": {},
   "outputs": [],
   "source": [
    "# Amazon 出品手数料を取得する\n",
    "# amazon_charge = browser.find_elements(By.XPATH, '//★').text\n",
    "# print(amazon_charge)"
   ]
  },
  {
   "cell_type": "markdown",
   "id": "e9b78d60-c6e6-41b5-9279-3f672632638b",
   "metadata": {},
   "source": [
    "## 取得したAmazon情報・ヤフオク情報を蓄積する"
   ]
  },
  {
   "cell_type": "code",
   "execution_count": 648,
   "id": "1eaf52e8-7f43-419a-9126-ea5950df500d",
   "metadata": {},
   "outputs": [
    {
     "name": "stdout",
     "output_type": "stream",
     "text": [
      "data_list [{'出品': 'OK', 'Amazon商品名': 'SALONIA サロニア | スピーディーイオン ドライヤー 【ブラック】 ヘアドライヤー 大風量 速乾 軽量 マイナスイオン 折り畳み式 冷温3段階調整', 'Amazon価格': 5373, 'Amazon商品URL': 'https://www.amazon.co.jp/SALONIA-%E3%82%B5%E3%83%AD%E3%83%8B%E3%82%A2-SAL19002-%E3%82%B9%E3%83%94%E3%83%BC%E3%83%87%E3%82%A3%E3%83%BC%E3%82%A4%E3%82%AA%E3%83%B3%E3%83%89%E3%83%A9%E3%82%A4%E3%83%A4%E3%83%BC-%E3%83%96%E3%83%A9%E3%83%83%E3%82%AF/dp/B07VCP8JXS/ref=sr_1_1?qid=1686677713&s=kitchen&sr=1-1', 'ヤフオク商品名': 'SALONIA ドライヤー SL-013BK サロニア', 'ヤフオク現在価格': '2800円（税0円）', 'ヤフオク商品URL': 'https://page.auctions.yahoo.co.jp/jp/auction/h1094905192', 'A-Y現在利益(送料込)': 1803, '現在利益率(送料込)': 64.4, '情報取得日時': '2023/06/14 02:40'}, {'出品': 'NG', 'Amazon商品名': 'SALONIA サロニア | スピーディーイオン ドライヤー 【ブラック】 ヘアドライヤー 大風量 速乾 軽量 マイナスイオン 折り畳み式 冷温3段階調整', 'Amazon価格': 5373, 'Amazon商品URL': 'https://www.amazon.co.jp/SALONIA-%E3%82%B5%E3%83%AD%E3%83%8B%E3%82%A2-SAL19002-%E3%82%B9%E3%83%94%E3%83%BC%E3%83%87%E3%82%A3%E3%83%BC%E3%82%A4%E3%82%AA%E3%83%B3%E3%83%89%E3%83%A9%E3%82%A4%E3%83%A4%E3%83%BC-%E3%83%96%E3%83%A9%E3%83%83%E3%82%AF/dp/B07VCP8JXS/ref=sr_1_1?qid=1686677713&s=kitchen&sr=1-1', 'ヤフオク商品名': 'サロニア スピーディーイオンドライヤー SL-013BK ブラック【PSEマークあり】【訳あり※折りまげ部分ゆるみ有】58 00064', 'ヤフオク現在価格': '4000円（税0円）', 'ヤフオク商品URL': 'https://page.auctions.yahoo.co.jp/jp/auction/l1094007746', 'A-Y現在利益(送料込)': 603, '現在利益率(送料込)': 15.1, '情報取得日時': '2023/06/14 02:45'}]\n"
     ]
    }
   ],
   "source": [
    "# 取得した情報を CSV 出力用にまとめる（出品判定の証跡として残す）\n",
    "get_datetime = datetime.datetime.now().strftime('%Y/%m/%d %H:%M')\n",
    "\n",
    "data = {\n",
    "    '出品判定': judge_flag,\n",
    "    'Amazon商品名': amazon_name,\n",
    "    'Amazon価格': amazon_price,\n",
    "    # 'Amazon出品手数料': amazon_charge,\n",
    "    'Amazon商品URL': amazon_url,\n",
    "    'ヤフオク商品名': yafuoku_name,\n",
    "    'ヤフオク現在価格': yafuoku_price_now,\n",
    "    'ヤフオク商品URL': yafuoku_url,\n",
    "    'A-Y現在利益(送料込)': profit,\n",
    "    '現在利益率(送料込)': profit_rate,\n",
    "    '情報取得日時': get_datetime,\n",
    "    }\n",
    "\n",
    "data_list.append(data)\n",
    "print('data_list', data_list)"
   ]
  },
  {
   "cell_type": "code",
   "execution_count": 650,
   "id": "1cdae776-6aaf-4398-9c1a-9d7f6bdf3c81",
   "metadata": {},
   "outputs": [],
   "source": [
    "# 「新規出品」ボタンをクリックする\n",
    "# まずは人力でスタートし、一定の実績が積めてから自動化する\n",
    "# ■ 「取得したAmazon情報・ヤフオク情報を蓄積する」と1セットにすることで履歴残し漏れ・出品漏れを防げる\n",
    "\n",
    "browser.find_element(By.XPATH, '//button[contains(text(), \"新規出品\")]').click()"
   ]
  },
  {
   "cell_type": "code",
   "execution_count": 651,
   "id": "72f30889-b736-4def-93a8-2ed3e161b7e4",
   "metadata": {},
   "outputs": [
    {
     "name": "stdout",
     "output_type": "stream",
     "text": [
      "ResaleTrap のページを閉じました\n"
     ]
    }
   ],
   "source": [
    "# ResaleTrap ページを閉じる\n",
    "browser.close()\n",
    "print('ResaleTrap のページを閉じました')"
   ]
  },
  {
   "cell_type": "code",
   "execution_count": 652,
   "id": "5114b940-faee-4b17-a20a-c3df161dfff2",
   "metadata": {},
   "outputs": [
    {
     "name": "stdout",
     "output_type": "stream",
     "text": [
      "出品が完了したヤフオク商品ページを閉じました\n",
      "次のヤフオク商品ページをアクティブにするところから再実行してください\n"
     ]
    }
   ],
   "source": [
    "# 出品が完了したヤフオク商品ページも閉じる\n",
    "handle_array = browser.window_handles\n",
    "# print(handle_array)\n",
    "browser.switch_to.window(handle_array[-1])\n",
    "\n",
    "browser.close()\n",
    "print('出品が完了したヤフオク商品ページを閉じました')\n",
    "print('次のヤフオク商品ページをアクティブにするところから再実行してください')\n",
    "\n",
    "# 次のヤフオク商品ページをアクティブにする\n",
    "# →　「ヤフオクページから情報を取得する」項に戻る"
   ]
  },
  {
   "cell_type": "markdown",
   "id": "cd3f888e-fcef-4cab-b99c-57844e853640",
   "metadata": {},
   "source": [
    "## 蓄積したAmazon情報・ヤフオク情報を出力する"
   ]
  },
  {
   "cell_type": "code",
   "execution_count": 653,
   "id": "66bdd11c-16c2-4038-a1d6-b9d87a53b453",
   "metadata": {},
   "outputs": [],
   "source": [
    "# 取得した情報を CSV ファイルに出力する\n",
    "output_time = datetime.datetime.now().strftime('%Y%m%d%H%M%S')\n",
    "csv_file_name = 'ヤフオクtoアマゾンデータ_' + output_time + '.csv'\n",
    "pd.DataFrame(data_list).to_csv(csv_file_name, encoding='cp932')"
   ]
  },
  {
   "cell_type": "markdown",
   "id": "b6e10064-6794-413a-9c07-66effcbaaecf",
   "metadata": {},
   "source": [
    "# 完成版"
   ]
  },
  {
   "cell_type": "code",
   "execution_count": null,
   "id": "655cd7b0-74d9-49e8-9e2a-dd4289f1fd3a",
   "metadata": {},
   "outputs": [],
   "source": [
    "\n",
    "def xxx():\n",
    "    \n",
    "def yyy():\n",
    "    \n",
    "# csvファイルに出力する\n",
    "def output():\n",
    "    output_time = datetime.datetime.now().strftime('%Y%m%d%H%M%S')\n",
    "    csv_file_name = 'ヤフオクtoアマゾンデータ_' + output_time + '.csv'\n",
    "    pd.DataFrame(data_list).to_csv(csv_file_name, encoding='cp932')\n",
    "\n",
    "def main():\n",
    "    xxx()\n",
    "    yyy()\n",
    "    output()\n",
    "\n",
    "if __name__ == '__main__':\n",
    "    main()"
   ]
  },
  {
   "cell_type": "code",
   "execution_count": null,
   "id": "48a7b6ec-5fce-4a11-b58a-09d28f28f74f",
   "metadata": {},
   "outputs": [],
   "source": []
  },
  {
   "cell_type": "code",
   "execution_count": null,
   "id": "1d65ecdb-4031-40ee-a2ae-80ba50c5b5b8",
   "metadata": {},
   "outputs": [],
   "source": []
  },
  {
   "cell_type": "code",
   "execution_count": null,
   "id": "3b1739a5-35f4-4d16-b84a-933d27535c4c",
   "metadata": {},
   "outputs": [],
   "source": []
  }
 ],
 "metadata": {
  "kernelspec": {
   "display_name": "Python 3 (ipykernel)",
   "language": "python",
   "name": "python3"
  },
  "language_info": {
   "codemirror_mode": {
    "name": "ipython",
    "version": 3
   },
   "file_extension": ".py",
   "mimetype": "text/x-python",
   "name": "python",
   "nbconvert_exporter": "python",
   "pygments_lexer": "ipython3",
   "version": "3.9.13"
  }
 },
 "nbformat": 4,
 "nbformat_minor": 5
}
