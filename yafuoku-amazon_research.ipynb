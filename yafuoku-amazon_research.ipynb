{
 "cells": [
  {
   "cell_type": "markdown",
   "id": "c654fff7-c099-49ba-b51f-d690923da69c",
   "metadata": {},
   "source": [
    "# 案件\n",
    "- 【市場調査】Amazon/ヤフオクの市場の調査をお願いします。初心者歓迎/隙間時間にもできます\n",
    "- https://crowdworks.jp/public/jobs/9151993"
   ]
  },
  {
   "cell_type": "markdown",
   "id": "0b99cf1e-bc38-4a62-9ba2-11adc66b1e3d",
   "metadata": {},
   "source": [
    "# 動作検証"
   ]
  },
  {
   "cell_type": "code",
   "execution_count": 19,
   "id": "0e0f2d06-95c9-4fea-82cf-414862c8647c",
   "metadata": {},
   "outputs": [],
   "source": [
    "from selenium import webdriver\n",
    "from selenium.webdriver.chrome.options import Options\n",
    "from selenium.webdriver.common.by import By\n",
    "from selenium.webdriver.common.keys import Keys\n",
    "from selenium.webdriver.chrome import service as fs\n",
    "from time import sleep\n",
    "from bs4 import BeautifulSoup\n",
    "import datetime\n",
    "import csv\n",
    "import pandas as pd\n",
    "\n",
    "CHROMEDRIVER = r'C:\\Users\\amuza\\OneDrive\\Documents\\Python-study\\ec_scraping\\chromedriver.exe'\n",
    "chrome_service = fs.Service(executable_path = CHROMEDRIVER)\n",
    "options = Options()\n",
    "# options.add_argument('--headless')  # ヘッドレスモード\n",
    "driver = webdriver.Chrome(service = chrome_service, options = options)\n",
    "\n",
    "# Amazon のトップページを開く\n",
    "url = 'https://www.amazon.co.jp/ref=nav_logo'\n",
    "driver.get(url)"
   ]
  },
  {
   "cell_type": "code",
   "execution_count": 20,
   "id": "b3aa3ef2-c3b8-43a2-a3c5-2ef029431c6c",
   "metadata": {},
   "outputs": [],
   "source": [
    "driver.find_element(By.ID, 'twotabsearchtextbox').send_keys('Sweetwinds ペニスリング コックリング 二重リング 日本人サイズ 柔らかいシリコン 高弾力 男性用オナニーリング アダル')\n",
    "driver.find_element(By.ID, 'nav-search-submit-button').click()"
   ]
  },
  {
   "cell_type": "code",
   "execution_count": 21,
   "id": "5ac46658-6aa7-4d06-9064-c385f06b8d8f",
   "metadata": {},
   "outputs": [
    {
     "data": {
      "text/plain": [
       "1"
      ]
     },
     "execution_count": 21,
     "metadata": {},
     "output_type": "execute_result"
    }
   ],
   "source": [
    "handle_array = driver.window_handles\n",
    "len(handle_array)"
   ]
  },
  {
   "cell_type": "code",
   "execution_count": 22,
   "id": "a1188348-951d-438d-9d62-2e7cb83193ff",
   "metadata": {},
   "outputs": [
    {
     "name": "stdout",
     "output_type": "stream",
     "text": [
      "0 8C8CE6DBD3C129FD0E6B7C6D658F17B6\n"
     ]
    }
   ],
   "source": [
    "for i in range(len(handle_array)):\n",
    "    print(i, handle_array[i])"
   ]
  },
  {
   "cell_type": "code",
   "execution_count": 23,
   "id": "e6b9bb6d-a9f7-46e5-844c-343846c8c42f",
   "metadata": {},
   "outputs": [],
   "source": [
    "driver.find_element(By.ID, 'a-autoid-1-announce').click()"
   ]
  },
  {
   "cell_type": "code",
   "execution_count": 24,
   "id": "15715eb9-67a0-44fc-a39e-d558008c6335",
   "metadata": {},
   "outputs": [
    {
     "name": "stdout",
     "output_type": "stream",
     "text": [
      "['8C8CE6DBD3C129FD0E6B7C6D658F17B6']\n"
     ]
    }
   ],
   "source": []
  },
  {
   "cell_type": "code",
   "execution_count": null,
   "id": "ae89d1dd-3c96-41df-9f87-ddb42b67eea2",
   "metadata": {},
   "outputs": [],
   "source": []
  },
  {
   "cell_type": "markdown",
   "id": "9b1f6d3b-1195-4dbd-b315-597b61a7792c",
   "metadata": {},
   "source": [
    "# 完成版\n",
    "1. ヤフオクから情報を取得する\n",
    "1. ヤフオクで取得した情報を基に Amazon で検索する"
   ]
  },
  {
   "cell_type": "markdown",
   "id": "2c18928a-9229-4792-aaee-4d621c7ef1f8",
   "metadata": {},
   "source": [
    "## ヤフオクの情報を取得する"
   ]
  },
  {
   "cell_type": "code",
   "execution_count": null,
   "id": "7eeb4151-a0be-408b-8e9f-3942ba0dfe7c",
   "metadata": {},
   "outputs": [],
   "source": [
    "# yafuoku_crawl.py"
   ]
  },
  {
   "cell_type": "markdown",
   "id": "0ed3ec29-12d9-4a22-9f60-b40d1d843cc0",
   "metadata": {},
   "source": [
    "## ヤフオクの取得データを基に Amazon の情報を検索する"
   ]
  },
  {
   "cell_type": "code",
   "execution_count": 30,
   "id": "e0a6878e-5149-4f82-8525-f8d854e8c449",
   "metadata": {},
   "outputs": [
    {
     "name": "stdout",
     "output_type": "stream",
     "text": [
      "ヤフオク商品名: ABSプラスチック製　カー　フェイク　ダンプ　電子　ターボ　ブロー　オフ　フーター　バルブ　 アナログ　サウンド\n",
      "Amazon商品名: 【ノーブランド 品】ABSプラスチック製　カー　フェイク　ダンプ　電子　ターボ　ブロー　オフ　フーター　バルブ　 アナログ　サウンド\n",
      "\n",
      "ヤフオク商品名: Sweetwinds ペニスリング コックリング 二重リング 日本人サイズ 柔らかいシリコン 高弾力 男性用オナニーリング アダル\n",
      "【Amazon情報を取得できませんでした】\n",
      "\n",
      "ヤフオク商品名: Sweetwinds ペニスリング コックリング 三角リング 2点セット【黒と白】 シリコン製 男性用 アダルトグッズ\n",
      "【Amazon情報を取得できませんでした】\n",
      "\n",
      "----- 取得完了 -----\n",
      "Wall time: 18.3 s\n"
     ]
    }
   ],
   "source": [
    "%%time\n",
    "from selenium import webdriver\n",
    "from selenium.webdriver.chrome.options import Options\n",
    "from selenium.webdriver.common.by import By\n",
    "from selenium.webdriver.common.keys import Keys\n",
    "from selenium.webdriver.chrome import service as fs\n",
    "from time import sleep\n",
    "from bs4 import BeautifulSoup\n",
    "import datetime\n",
    "import csv\n",
    "import pandas as pd\n",
    "\n",
    "CHROMEDRIVER = r'C:\\Users\\amuza\\OneDrive\\Documents\\Python-study\\ec_scraping\\chromedriver.exe'\n",
    "chrome_service = fs.Service(executable_path = CHROMEDRIVER)\n",
    "options = Options()\n",
    "# options.add_argument('--headless')  # ヘッドレスモード\n",
    "driver = webdriver.Chrome(service = chrome_service, options = options)\n",
    "\n",
    "# Amazon のトップページを開く\n",
    "url = 'https://www.amazon.co.jp/ref=nav_logo'\n",
    "driver.get(url)\n",
    "sleep(1)\n",
    "\n",
    "# 大元のウィンドウの保持\n",
    "original_window = driver.current_window_handle\n",
    "\n",
    "# ヤフオクデータの取得\n",
    "df = pd.read_csv('yafuoku_seller_crawl.csv', encoding='cp932')\n",
    "\n",
    "# 取得情報格納用のリスト準備\n",
    "amazon_list = []\n",
    "\n",
    "for index, yafuoku_item in df.iterrows():\n",
    "    try:\n",
    "        yafuoku_name = yafuoku_item['name']\n",
    "        print('ヤフオク商品名:', yafuoku_name)\n",
    "\n",
    "        yafuoku_price = yafuoku_item['price']\n",
    "        # print('ヤフオク価格:', yafuoku_price)\n",
    "        \n",
    "        yafuoku_tax = yafuoku_item['tax']\n",
    "        # print('ヤフオク税金:', yafuoku_tax)\n",
    "\n",
    "        yafuoku_postage = yafuoku_item['postage']\n",
    "        # print('ヤフオク送料:', yafuoku_postage)\n",
    "        \n",
    "        yafuoku_postage_due = yafuoku_item['postage_due']\n",
    "        # print('ヤフオク送料負担:', yafuoku_postage_due)\n",
    "        \n",
    "        yafuoku_free_postage = yafuoku_item['free_postage']\n",
    "        # print('ヤフオク送料無料:', yafuoku_free_postage)\n",
    "        \n",
    "        yafuoku_url = yafuoku_item['url']\n",
    "        # print('ヤフオク商品URL:', yafuoku_url)\n",
    "        \n",
    "        yafuoku_end_date = yafuoku_item['end_date']\n",
    "        # print('ヤフオク終了日:', yafuoku_end_date)\n",
    "        \n",
    "        yafuoku_info_get_date = yafuoku_item['info_get_date']\n",
    "        # print('ヤフオク情報取得日:', yafuoku_info_get_date)\n",
    "\n",
    "        # 検索ボックスに商品名を入力する\n",
    "        driver.find_element(By.ID, 'twotabsearchtextbox').send_keys(yafuoku_name)\n",
    "        # 検索ボタンをクリックする\n",
    "        driver.find_element(By.ID, 'nav-search-submit-button').click()\n",
    "        sleep(1)\n",
    "\n",
    "        # ■ アダルト商品の場合、年齢確認のポップアップ（別ウィンドウ）が表示される\n",
    "        # if driver.find_element(By.ID, 'a-autoid-1-announce'):\n",
    "        #     driver.find_element(By.ID, 'a-autoid-1-announce').click()\n",
    "        #     sleep(1)\n",
    "        \n",
    "        # 商品ページのリンクをクリックする。別ウィンドウで開かれる\n",
    "        driver.find_element(By.XPATH, f'(//span[contains(text(),\"{yafuoku_name}\")]/parent::a[@target=\"_blank\"])[1]').click()\n",
    "\n",
    "        # 開いているすべてのウィンドウハンドルを取得する（リスト形式）\n",
    "        handle_array = driver.window_handles\n",
    "        # 別ウィンドウに切り替える\n",
    "        driver.switch_to.window(handle_array[-1])\n",
    "        # 別ウィンドウの HTML 構造を取得する\n",
    "        soup = BeautifulSoup(driver.page_source, 'html.parser')\n",
    "\n",
    "        amazon_name = soup.select('span#productTitle')[0].text.strip()\n",
    "        print('Amazon商品名:', amazon_name)\n",
    "\n",
    "        amazon_price = soup.select('div#corePrice_feature_div span.a-price-whole')[0].text\n",
    "        # print('Amazon価格:', amazon_price)\n",
    "\n",
    "        amazon_url = driver.current_url\n",
    "        # print('Amazon商品URL:', amazon_url)\n",
    "        \n",
    "        amazon_info_get_date = datetime.datetime.now()\n",
    "        # print('Amazon情報取得日:', amazon_info_get_date)\n",
    "\n",
    "        # 検索対象商品名と取得商品名が一致しているかをチェック\n",
    "        if yafuoku_name == amazon_name:\n",
    "            check = '一致'\n",
    "        else:\n",
    "            check = '【商品名不一致】'\n",
    "        # print('商品名整合性:', check)\n",
    "\n",
    "        # 取得した情報をリストに追加する\n",
    "        amazon_list.append([\n",
    "            yafuoku_name, yafuoku_price, yafuoku_tax, yafuoku_postage, yafuoku_postage_due, yafuoku_free_postage, yafuoku_url, yafuoku_end_date, yafuoku_info_get_date, \\\n",
    "            amazon_name, amazon_price, amazon_url, amazon_info_get_date, check\n",
    "        ])\n",
    "\n",
    "        # 現在のウィンドウを閉じる\n",
    "        driver.close()\n",
    "        # ウィンドウハンドラを大元のウィンドウに切り替える\n",
    "        driver.switch_to.window(original_window)\n",
    "\n",
    "        # 検索ボックスに残っている文字列を消す\n",
    "        driver.find_element(By.ID, 'twotabsearchtextbox').clear()\n",
    "    except:\n",
    "        print('【Amazon情報を取得できませんでした】')\n",
    "        check = '【Amazon情報未取得】'\n",
    "        amazon_list.append([\n",
    "            yafuoku_name, yafuoku_price, yafuoku_tax, yafuoku_postage, yafuoku_postage_due, yafuoku_free_postage, yafuoku_url, yafuoku_end_date, yafuoku_info_get_date, \\\n",
    "            '【不明】', '-', '-', '-', check\n",
    "        ])\n",
    "        driver.find_element(By.ID, 'twotabsearchtextbox').clear()\n",
    "    finally:\n",
    "        print('')\n",
    "\n",
    "# 取得した全データを csv ファイルに出力する\n",
    "csv_header = [\n",
    "    'ヤフオク商品名', 'ヤフオク価格', 'ヤフオク税金', 'ヤフオク送料', 'ヤフオク送料負担', 'ヤフオク送料無料', 'ヤフオク商品URL', 'ヤフオク終了日', 'ヤフオク情報取得日', \\\n",
    "    'Amazon商品名', 'Amazon価格', 'Amazon商品URL', 'Amazon情報取得日', '商品名整合性'\n",
    "]\n",
    "csv_file_name = 'yafuoku_amazon_research.csv'\n",
    "\n",
    "with open(csv_file_name, 'w', errors = 'ignore') as file:\n",
    "    writer = csv.writer(file, lineterminator='\\n')\n",
    "    writer.writerow(csv_header)\n",
    "    writer.writerows(amazon_list)\n",
    "    \n",
    "print('----- 取得完了 -----')"
   ]
  },
  {
   "cell_type": "code",
   "execution_count": null,
   "id": "81fb683a-8c13-4b9c-89fd-cadc87049cf1",
   "metadata": {},
   "outputs": [],
   "source": []
  }
 ],
 "metadata": {
  "kernelspec": {
   "display_name": "Python 3 (ipykernel)",
   "language": "python",
   "name": "python3"
  },
  "language_info": {
   "codemirror_mode": {
    "name": "ipython",
    "version": 3
   },
   "file_extension": ".py",
   "mimetype": "text/x-python",
   "name": "python",
   "nbconvert_exporter": "python",
   "pygments_lexer": "ipython3",
   "version": "3.9.13"
  }
 },
 "nbformat": 4,
 "nbformat_minor": 5
}
