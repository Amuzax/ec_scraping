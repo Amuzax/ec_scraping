{
 "cells": [
  {
   "cell_type": "markdown",
   "id": "987fa89c-1622-4cf7-97e1-ac2e1085a953",
   "metadata": {},
   "source": [
    "# 動作検証"
   ]
  },
  {
   "cell_type": "code",
   "execution_count": 120,
   "id": "0cfa3eed-ac96-4ff6-89b9-048049e42cee",
   "metadata": {},
   "outputs": [],
   "source": [
    "# import requests\n",
    "from selenium import webdriver\n",
    "from selenium.webdriver.chrome.options import Options\n",
    "from selenium.webdriver.common.by import By\n",
    "from selenium.webdriver.common.keys import Keys\n",
    "from selenium.webdriver.chrome import service as fs\n",
    "from time import sleep\n",
    "from bs4 import BeautifulSoup\n",
    "import datetime\n",
    "import csv"
   ]
  },
  {
   "cell_type": "code",
   "execution_count": 154,
   "id": "f015924e-e951-4b0a-b95d-0155a3a063e4",
   "metadata": {},
   "outputs": [],
   "source": [
    "url = 'https://www.amazon.co.jp/ref=nav_logo'\n",
    "# response = requests.get(url)\n",
    "# response.text[:100]"
   ]
  },
  {
   "cell_type": "code",
   "execution_count": 155,
   "id": "8081c267-e943-4509-969f-beccf8457f74",
   "metadata": {},
   "outputs": [],
   "source": [
    "CHROMEDRIVER = r'C:\\Users\\amuza\\Python-study\\ec_scraping\\chromedriver.exe'\n",
    "chrome_service = fs.Service(executable_path = CHROMEDRIVER)\n",
    "\n",
    "options = Options()\n",
    "# options.add_argument('--headless')\n",
    "driver = webdriver.Chrome(service = chrome_service, options = options)"
   ]
  },
  {
   "cell_type": "code",
   "execution_count": 156,
   "id": "274d7435-a897-4164-a4de-75675efb4c55",
   "metadata": {},
   "outputs": [],
   "source": [
    "driver.get(url)"
   ]
  },
  {
   "cell_type": "code",
   "execution_count": 157,
   "id": "2d66f892-53f7-43d8-a591-c317c20f0ce7",
   "metadata": {},
   "outputs": [],
   "source": [
    "original_window = driver.current_window_handle"
   ]
  },
  {
   "cell_type": "code",
   "execution_count": 158,
   "id": "18f10a5c-465f-4ffc-957c-1b7cf9af132c",
   "metadata": {},
   "outputs": [],
   "source": [
    "# 検索ボックスに ASIN 番号を入力する\n",
    "ASIN = 'B001VZNABO'\n",
    "driver.find_element(By.ID, 'twotabsearchtextbox').send_keys(ASIN)"
   ]
  },
  {
   "cell_type": "code",
   "execution_count": 159,
   "id": "bb152b9c-bdeb-4324-9d6b-7929afc10f18",
   "metadata": {},
   "outputs": [],
   "source": [
    "# 検索ボタンをクリックする\n",
    "driver.find_element(By.ID, 'nav-search-submit-button').click()"
   ]
  },
  {
   "cell_type": "code",
   "execution_count": 161,
   "id": "6615c15b-445f-438a-88fa-7d7ba9a5ac83",
   "metadata": {},
   "outputs": [],
   "source": [
    "# 商品の詳細ページへのリンクをクリックする\n",
    "driver.find_element(By.XPATH, f'(//a[contains(@href, \"keywords={asin}\")])[1]').click()\n",
    "\n",
    "# 別ウィンドウで開かれるので新しいウィンドウをアクティブにする必要がある　→　下記の方法でできる\n",
    "\n",
    "# [Python]Seleniumで操作するウィンドウを切り替える２つの方法を紹介\n",
    "# https://tanuhack.com/selenium-change-window/\n",
    "\n",
    "# ウィンドウとタブの操作\n",
    "# https://www.selenium.dev/ja/documentation/webdriver/interactions/windows/"
   ]
  },
  {
   "cell_type": "code",
   "execution_count": null,
   "id": "b981e81d-da82-44ca-8da5-0c1df4137486",
   "metadata": {},
   "outputs": [],
   "source": [
    "# 詳細ページの HTML 構造を取得する\n",
    "soup = BeautifulSoup(driver.page_source, 'html.parser')"
   ]
  },
  {
   "cell_type": "code",
   "execution_count": null,
   "id": "ad7d1d54-3340-4335-b578-211f6e2dccb6",
   "metadata": {},
   "outputs": [],
   "source": [
    "soup.select('html title')[0].text"
   ]
  },
  {
   "cell_type": "code",
   "execution_count": 162,
   "id": "0cdc436a-ff47-4076-acd0-0914cf9005c0",
   "metadata": {},
   "outputs": [
    {
     "name": "stdout",
     "output_type": "stream",
     "text": [
      "https://www.amazon.co.jp/s?k=B001VZNABO&__mk_ja_JP=%E3%82%AB%E3%82%BF%E3%82%AB%E3%83%8A&crid=1KTVNZ8E8VZMH&sprefix=b001vznabo%2Caps%2C454&ref=nb_sb_noss\n"
     ]
    }
   ],
   "source": [
    "# driverで操作できるURLを表示する\n",
    "print(driver.current_url)"
   ]
  },
  {
   "cell_type": "code",
   "execution_count": 163,
   "id": "2084a10b-fd16-485b-ae91-07846a63fa5c",
   "metadata": {},
   "outputs": [],
   "source": [
    "# ウィンドウハンドルを取得する(list型配列)　現在開いているものすべて？？？\n",
    "handle_array = driver.window_handles"
   ]
  },
  {
   "cell_type": "code",
   "execution_count": null,
   "id": "f822006c-ef1c-404b-908b-d2ffd070bd9d",
   "metadata": {},
   "outputs": [],
   "source": [
    "# それぞれのウィンドウハンドルを表示する\n",
    "for i in range(len(handle_array)):\n",
    "    print(i, handle_array[i])"
   ]
  },
  {
   "cell_type": "code",
   "execution_count": null,
   "id": "00a5a913-0a4d-4476-b8f6-91026a12fb0d",
   "metadata": {},
   "outputs": [],
   "source": [
    "# 現在のウィンドウハンドルを取得する\n",
    "# 【Python】current_window_handle・・・ウインドウハンドルを取得する - Selenium リファレンス\n",
    "# https://www.seleniumqref.com/api/python/window_get/Python_current_window_handle.html\n",
    "print(driver.current_window_handle)"
   ]
  },
  {
   "cell_type": "code",
   "execution_count": 164,
   "id": "86b0db03-6e2e-42d7-812c-059283c6a794",
   "metadata": {},
   "outputs": [],
   "source": [
    "# selenium で操作可能な driver を新しく開いたウィンドウに切り替える\n",
    "driver.switch_to.window(handle_array[-1])"
   ]
  },
  {
   "cell_type": "code",
   "execution_count": null,
   "id": "12b8bb3f-5961-4ecf-91c2-889c71005f9e",
   "metadata": {},
   "outputs": [],
   "source": [
    "# Selenium が操作しているウィンドウの URL を確認する\n",
    "print(driver.current_url)"
   ]
  },
  {
   "cell_type": "code",
   "execution_count": 165,
   "id": "1a69bcb4-37fd-46c9-bcc0-1ade2349df9f",
   "metadata": {},
   "outputs": [],
   "source": [
    "# 切り替えた後のウィンドウの HTML 情報を取得する\n",
    "soup = BeautifulSoup(driver.page_source, 'html.parser')"
   ]
  },
  {
   "cell_type": "code",
   "execution_count": null,
   "id": "adff2aa1-5b11-4c1d-8720-ecb103928f98",
   "metadata": {},
   "outputs": [],
   "source": [
    "soup.select('html title')[0].text"
   ]
  },
  {
   "cell_type": "code",
   "execution_count": 166,
   "id": "5fe26a58-5f12-4cca-b897-761250c087f7",
   "metadata": {},
   "outputs": [
    {
     "name": "stdout",
     "output_type": "stream",
     "text": [
      "タミヤ 楽しい工作シリーズ No.151 単3電池ボックス 2本用 スイッチ付 (70151)\n"
     ]
    }
   ],
   "source": [
    "# 商品名を取得する\n",
    "name = soup.select('span#productTitle')[0].text.strip()\n",
    "print(name)"
   ]
  },
  {
   "cell_type": "code",
   "execution_count": 167,
   "id": "738a7e52-81c4-450f-a867-858e892db55a",
   "metadata": {},
   "outputs": [
    {
     "name": "stdout",
     "output_type": "stream",
     "text": [
      "B001VZNABO\n"
     ]
    }
   ],
   "source": [
    "# ASIN を取得する\n",
    "asin_1 = soup.select('span:contains(\"ASIN\")+span')[0].text\n",
    "print(asin_1)"
   ]
  },
  {
   "cell_type": "code",
   "execution_count": 168,
   "id": "1db77e49-343b-4545-9021-65ad722f6b9e",
   "metadata": {},
   "outputs": [
    {
     "name": "stdout",
     "output_type": "stream",
     "text": [
      "この商品の最小注文個数は3です\n"
     ]
    }
   ],
   "source": [
    "# 最小注文個数を取得する\n",
    "min_order = soup.select('a#trigger_popover')[0].text.strip()\n",
    "print(min_order)"
   ]
  },
  {
   "cell_type": "code",
   "execution_count": 169,
   "id": "c8200a42-f3b6-43e0-9834-f65ace9d4085",
   "metadata": {},
   "outputs": [
    {
     "name": "stdout",
     "output_type": "stream",
     "text": [
      "https://www.amazon.co.jp/%E3%82%BF%E3%83%9F%E3%83%A4-%E6%A5%BD%E3%81%97%E3%81%84%E5%B7%A5%E4%BD%9C%E3%82%B7%E3%83%AA%E3%83%BC%E3%82%BA-No-151-%E5%8D%983%E9%9B%BB%E6%B1%A0%E3%83%9C%E3%83%83%E3%82%AF%E3%82%B9-%E3%82%B9%E3%82%A4%E3%83%83%E3%83%81%E4%BB%98/dp/B001VZNABO/ref=sr_1_1?__mk_ja_JP=%E3%82%AB%E3%82%BF%E3%82%AB%E3%83%8A&crid=1KTVNZ8E8VZMH&keywords=B001VZNABO&qid=1680888124&sprefix=b001vznabo%2Caps%2C454&sr=8-1\n"
     ]
    }
   ],
   "source": [
    "# URL\n",
    "url = driver.current_url\n",
    "print(url)"
   ]
  },
  {
   "cell_type": "code",
   "execution_count": null,
   "id": "250fbde3-1001-4d46-8743-7d47cd0f7dcd",
   "metadata": {},
   "outputs": [],
   "source": [
    "item_list = []"
   ]
  },
  {
   "cell_type": "code",
   "execution_count": null,
   "id": "235ab710-831f-407b-9561-7f302bc77f35",
   "metadata": {},
   "outputs": [],
   "source": [
    "item_list.append([name, asin_1, min_order, url])\n",
    "item_list"
   ]
  },
  {
   "cell_type": "code",
   "execution_count": null,
   "id": "19e61066-53dd-4a7d-90a5-a984072107a7",
   "metadata": {},
   "outputs": [],
   "source": [
    "# 現在のタブを閉じる。もともと開いていたウィンドウにハンドルが戻るはず\n",
    "# →　勝手には戻らない。明示的に戻す必要がある　driver.switch_to.window(original_window)\n",
    "driver.close()"
   ]
  },
  {
   "cell_type": "code",
   "execution_count": null,
   "id": "5271d7ba-79d7-48a8-b2c1-b56bebe0cfbd",
   "metadata": {},
   "outputs": [],
   "source": [
    "# ウィンドウハンドルを取得する(list型配列)　現在開いているものすべて？？？\n",
    "handle_array = driver.window_handles"
   ]
  },
  {
   "cell_type": "code",
   "execution_count": null,
   "id": "c339fa93-234b-446d-9387-86fe703a6a38",
   "metadata": {},
   "outputs": [],
   "source": [
    "# それぞれのウィンドウハンドルを表示する\n",
    "for i in range(len(handle_array)):\n",
    "    print(i, handle_array[i])"
   ]
  },
  {
   "cell_type": "code",
   "execution_count": null,
   "id": "45345035-5837-40d8-92fc-0aa5c0c4217c",
   "metadata": {},
   "outputs": [],
   "source": [
    "# 現在尾ウィンドウハンドルを確認する　→　存在しない\n",
    "print(driver.current_window_handle)"
   ]
  },
  {
   "cell_type": "code",
   "execution_count": null,
   "id": "7a6c2a4a-5f4d-4e0c-a88a-1e8e5e457008",
   "metadata": {},
   "outputs": [],
   "source": [
    "# 元のウィンドウに切り替える\n",
    "driver.switch_to.window(original_window)"
   ]
  },
  {
   "cell_type": "code",
   "execution_count": null,
   "id": "1819650d-1beb-46cb-9264-9159fb4ca820",
   "metadata": {},
   "outputs": [],
   "source": [
    "# 現在尾ウィンドウハンドルを確認する\n",
    "print(driver.current_window_handle)"
   ]
  },
  {
   "cell_type": "code",
   "execution_count": null,
   "id": "b8c2029d-083a-4de7-9d5a-e68cc7f119cf",
   "metadata": {},
   "outputs": [],
   "source": [
    "# 現在の URL を確認する\n",
    "print(driver.current_url)"
   ]
  },
  {
   "cell_type": "code",
   "execution_count": 96,
   "id": "22e55b38-6ef4-490d-8fff-4d17b02f92f1",
   "metadata": {},
   "outputs": [],
   "source": [
    "# 検索ボックスの文字列を消す\n",
    "# 【Python】clear・・・要素に入力された値をクリアする - Selenium リファレンス\n",
    "# https://www.seleniumqref.com/api/python/element_set/Python_clear.html\n",
    "driver.find_element(By.ID, 'twotabsearchtextbox').clear()"
   ]
  },
  {
   "cell_type": "code",
   "execution_count": 125,
   "id": "0667d5a7-0765-4412-b8f9-0a0f24de075c",
   "metadata": {},
   "outputs": [],
   "source": [
    "ASIN = 'B000SO1CVE'\n",
    "driver.find_element(By.ID, 'twotabsearchtextbox').send_keys(ASIN)"
   ]
  },
  {
   "cell_type": "code",
   "execution_count": 126,
   "id": "d979bdb9-b7df-4624-8e21-e18ac1369e30",
   "metadata": {},
   "outputs": [],
   "source": [
    "driver.find_element(By.ID, 'nav-search-submit-button').click()"
   ]
  },
  {
   "cell_type": "code",
   "execution_count": 127,
   "id": "e39cf457-8236-4250-9869-585f728e0be1",
   "metadata": {},
   "outputs": [],
   "source": [
    "driver.find_element(By.XPATH, f'(//a[contains(@href, \"keywords={ASIN}\")])[1]').click()"
   ]
  },
  {
   "cell_type": "code",
   "execution_count": 128,
   "id": "14685242-5573-4b52-bdb7-6a188437b869",
   "metadata": {},
   "outputs": [],
   "source": [
    "soup = BeautifulSoup(driver.page_source, 'html.parser')"
   ]
  },
  {
   "cell_type": "code",
   "execution_count": 129,
   "id": "60bb40aa-a84d-49d9-bba7-41ec0c0655ba",
   "metadata": {},
   "outputs": [
    {
     "name": "stdout",
     "output_type": "stream",
     "text": [
      "0 : 9CE9116E7505989569E6644DF26E67E9\n",
      "1 : 86A9F2581D4D2A6430D3361E6E09746E\n"
     ]
    }
   ],
   "source": [
    "handle_array = driver.window_handles\n",
    "\n",
    "for i, handle in enumerate(handle_array):\n",
    "    print(i, ':', handle)"
   ]
  },
  {
   "cell_type": "code",
   "execution_count": 132,
   "id": "229db5f9-ad03-4e31-908e-98f618b9515f",
   "metadata": {},
   "outputs": [
    {
     "name": "stdout",
     "output_type": "stream",
     "text": [
      "9CE9116E7505989569E6644DF26E67E9\n",
      "https://www.amazon.co.jp/s?k=B000SO1CVE&__mk_ja_JP=%E3%82%AB%E3%82%BF%E3%82%AB%E3%83%8A&crid=12G7R4DUFN6G4&sprefix=b000so1cve%2Caps%2C522&ref=nb_sb_noss\n"
     ]
    }
   ],
   "source": [
    "print(driver.current_window_handle)\n",
    "print(driver.current_url)"
   ]
  },
  {
   "cell_type": "code",
   "execution_count": 133,
   "id": "c2480f58-5ffd-48d3-b831-8f7d3d99233f",
   "metadata": {},
   "outputs": [
    {
     "name": "stdout",
     "output_type": "stream",
     "text": [
      "86A9F2581D4D2A6430D3361E6E09746E\n",
      "https://www.amazon.co.jp/%E3%82%B5%E3%82%AF%E3%83%A9%E3%82%A4%E8%B2%BF%E6%98%93-SAKURAI-CALFLEX-%E3%83%86%E3%83%8B%E3%82%B9%E3%83%88%E3%83%AC%E3%83%BC%E3%83%8A%E3%83%BC-TB-11/dp/B000SO1CVE/ref=sr_1_1?__mk_ja_JP=%E3%82%AB%E3%82%BF%E3%82%AB%E3%83%8A&crid=12G7R4DUFN6G4&keywords=B000SO1CVE&qid=1680884654&sprefix=b000so1cve%2Caps%2C522&sr=8-1\n"
     ]
    }
   ],
   "source": [
    "driver.switch_to.window(handle_array[-1])\n",
    "print(driver.current_window_handle)\n",
    "print(driver.current_url)"
   ]
  },
  {
   "cell_type": "code",
   "execution_count": 134,
   "id": "e442d360-3a51-4ce6-a1bf-72a97d557ebe",
   "metadata": {},
   "outputs": [],
   "source": [
    "soup = BeautifulSoup(driver.page_source, 'html.parser')"
   ]
  },
  {
   "cell_type": "code",
   "execution_count": 135,
   "id": "e15765f5-2418-46ca-bf1c-24ab197eb6a7",
   "metadata": {},
   "outputs": [
    {
     "name": "stdout",
     "output_type": "stream",
     "text": [
      "サクライ貿易(SAKURAI) CALFLEX(カルフレックス) テニス 硬式 一般用 テニストレーナー スペアボール TB-11\n"
     ]
    }
   ],
   "source": [
    "name = soup.select('span#productTitle')[0].text.strip()\n",
    "print(name)"
   ]
  },
  {
   "cell_type": "code",
   "execution_count": 144,
   "id": "8f77a151-5202-435b-b2fa-a4379317ce9c",
   "metadata": {},
   "outputs": [
    {
     "name": "stdout",
     "output_type": "stream",
     "text": [
      "-\n"
     ]
    }
   ],
   "source": [
    "if soup.select('span:contains(\"ASIN\")+span'):\n",
    "    asin_1 = soup.select('span:contains(\"ASIN\")+span')[0].text\n",
    "else:\n",
    "    asin_1 = '-'\n",
    "\n",
    "print(asin_1)"
   ]
  },
  {
   "cell_type": "code",
   "execution_count": 145,
   "id": "d57fb0cb-477d-447a-ae3e-ee497377a9e6",
   "metadata": {},
   "outputs": [
    {
     "name": "stdout",
     "output_type": "stream",
     "text": [
      "B000SO1CVE\n"
     ]
    }
   ],
   "source": [
    "if soup.select(f'td:contains({ASIN})'):\n",
    "    asin_2 = soup.select(f'td:contains({ASIN})')[0].text.strip()\n",
    "else:\n",
    "    asin_2 = '-'\n",
    "\n",
    "print(asin_2)"
   ]
  },
  {
   "cell_type": "code",
   "execution_count": 146,
   "id": "280c4ffa-6d49-4bdc-bd65-504289014981",
   "metadata": {},
   "outputs": [
    {
     "name": "stdout",
     "output_type": "stream",
     "text": [
      "この商品の最小注文個数は3です\n"
     ]
    }
   ],
   "source": [
    "if soup.select('a#trigger_popover'):\n",
    "    min_order = soup.select('a#trigger_popover')[0].text.strip()\n",
    "else:\n",
    "    min_order = '設定なし'\n",
    "    \n",
    "print(min_order)"
   ]
  },
  {
   "cell_type": "code",
   "execution_count": 147,
   "id": "2701bdcd-d2eb-44a1-b9e8-00c50ce1eea7",
   "metadata": {},
   "outputs": [
    {
     "name": "stdout",
     "output_type": "stream",
     "text": [
      "https://www.amazon.co.jp/%E3%82%B5%E3%82%AF%E3%83%A9%E3%82%A4%E8%B2%BF%E6%98%93-SAKURAI-CALFLEX-%E3%83%86%E3%83%8B%E3%82%B9%E3%83%88%E3%83%AC%E3%83%BC%E3%83%8A%E3%83%BC-TB-11/dp/B000SO1CVE/ref=sr_1_1?__mk_ja_JP=%E3%82%AB%E3%82%BF%E3%82%AB%E3%83%8A&crid=12G7R4DUFN6G4&keywords=B000SO1CVE&qid=1680884654&sprefix=b000so1cve%2Caps%2C522&sr=8-1\n"
     ]
    }
   ],
   "source": [
    "url = driver.current_url\n",
    "print(url)"
   ]
  },
  {
   "cell_type": "code",
   "execution_count": 148,
   "id": "05858d39-5295-4646-8c9c-2a4bc06fe8be",
   "metadata": {},
   "outputs": [
    {
     "data": {
      "text/plain": [
       "[['サクライ貿易(SAKURAI) CALFLEX(カルフレックス) テニス 硬式 一般用 テニストレーナー スペアボール TB-11',\n",
       "  '-',\n",
       "  'B000SO1CVE',\n",
       "  'この商品の最小注文個数は3です',\n",
       "  'https://www.amazon.co.jp/%E3%82%B5%E3%82%AF%E3%83%A9%E3%82%A4%E8%B2%BF%E6%98%93-SAKURAI-CALFLEX-%E3%83%86%E3%83%8B%E3%82%B9%E3%83%88%E3%83%AC%E3%83%BC%E3%83%8A%E3%83%BC-TB-11/dp/B000SO1CVE/ref=sr_1_1?__mk_ja_JP=%E3%82%AB%E3%82%BF%E3%82%AB%E3%83%8A&crid=12G7R4DUFN6G4&keywords=B000SO1CVE&qid=1680884654&sprefix=b000so1cve%2Caps%2C522&sr=8-1']]"
      ]
     },
     "execution_count": 148,
     "metadata": {},
     "output_type": "execute_result"
    }
   ],
   "source": [
    "amazon_list = []\n",
    "amazon_list.append([name, asin_1, asin_2, min_order, url])\n",
    "amazon_list"
   ]
  },
  {
   "cell_type": "code",
   "execution_count": null,
   "id": "a5b5f77e-879c-433f-9213-9188dbefea67",
   "metadata": {},
   "outputs": [],
   "source": []
  },
  {
   "cell_type": "code",
   "execution_count": 151,
   "id": "90273401-cfee-4f3d-98f4-b5e7652c5387",
   "metadata": {},
   "outputs": [],
   "source": [
    "# 取得したデータを保存する\n",
    "csv_header = ['商品名', 'ASIN_1', 'ASIN_2', '最低注文個数', 'URL']\n",
    "csv_file_name = 'amazon_asin_research.csv'\n",
    "\n",
    "with open(csv_file_name, 'w', errors = 'ignore') as file:\n",
    "    writer = csv.writer(file, lineterminator='\\n')\n",
    "    writer.writerow(csv_header)\n",
    "    writer.writerows(amazon_list)"
   ]
  },
  {
   "cell_type": "markdown",
   "id": "0989278d-209d-4783-b4ce-ad5f418844c1",
   "metadata": {},
   "source": [
    "# 完成版"
   ]
  },
  {
   "cell_type": "code",
   "execution_count": 183,
   "id": "e5042b92-f745-4300-8be6-6ad9aca4c909",
   "metadata": {},
   "outputs": [
    {
     "name": "stdout",
     "output_type": "stream",
     "text": [
      "検索対象ASIN: B001VZNABO\n",
      "商品名: タミヤ 楽しい工作シリーズ No.151 単3電池ボックス 2本用 スイッチ付 (70151)\n",
      "取得ASIN_1: B001VZNABO\n",
      "取得ASIN_2: -\n",
      "最小注文個数: この商品の最小注文個数は3です\n",
      "商品URL: https://www.amazon.co.jp/%E3%82%BF%E3%83%9F%E3%83%A4-%E6%A5%BD%E3%81%97%E3%81%84%E5%B7%A5%E4%BD%9C%E3%82%B7%E3%83%AA%E3%83%BC%E3%82%BA-No-151-%E5%8D%983%E9%9B%BB%E6%B1%A0%E3%83%9C%E3%83%83%E3%82%AF%E3%82%B9-%E3%82%B9%E3%82%A4%E3%83%83%E3%83%81%E4%BB%98/dp/B001VZNABO/ref=sr_1_1?__mk_ja_JP=%E3%82%AB%E3%82%BF%E3%82%AB%E3%83%8A&keywords=B001VZNABO&qid=1680892114&sr=8-1\n",
      "ASIN整合性: 一致\n",
      "\n",
      "検索対象ASIN: B000SO1CVE\n",
      "商品名: サクライ貿易(SAKURAI) CALFLEX(カルフレックス) テニス 硬式 一般用 テニストレーナー スペアボール TB-11\n",
      "取得ASIN_1: -\n",
      "取得ASIN_2: B000SO1CVE\n",
      "最小注文個数: この商品の最小注文個数は3です\n",
      "商品URL: https://www.amazon.co.jp/%E3%82%B5%E3%82%AF%E3%83%A9%E3%82%A4%E8%B2%BF%E6%98%93-SAKURAI-CALFLEX-%E3%83%86%E3%83%8B%E3%82%B9%E3%83%88%E3%83%AC%E3%83%BC%E3%83%8A%E3%83%BC-TB-11/dp/B000SO1CVE/ref=sr_1_1?__mk_ja_JP=%E3%82%AB%E3%82%BF%E3%82%AB%E3%83%8A&crid=252IDB1S7BAOT&keywords=B000SO1CVE&qid=1680892120&sprefix=b001vznabo%2Caps%2C163&sr=8-1\n",
      "ASIN整合性: 一致\n",
      "\n",
      "検索対象ASIN: B09YMDKBS9\n",
      "商品名: Cartist 新型 フォルクスワーゲン T-CROSS Tクロス フロントガラス サンシェード シェードカーテン マルチサンシェード 2019.11~現行 遮光性良い シェード 日よけ 車種専用 UVカット カスタムパーツ インテリア 内装パーツ 取付簡単 収納袋付 メーカー直営\n",
      "取得ASIN_1: -\n",
      "取得ASIN_2: B09YMDKBS9\n",
      "最小注文個数: 設定なし\n",
      "商品URL: https://www.amazon.co.jp/Cartist-%E3%83%95%E3%82%A9%E3%83%AB%E3%82%AF%E3%82%B9%E3%83%AF%E3%83%BC%E3%82%B2%E3%83%B3-%E3%82%B7%E3%82%A7%E3%83%BC%E3%83%89%E3%82%AB%E3%83%BC%E3%83%86%E3%83%B3-%E3%83%9E%E3%83%AB%E3%83%81%E3%82%B5%E3%83%B3%E3%82%B7%E3%82%A7%E3%83%BC%E3%83%89-2019-11-%E7%8F%BE%E8%A1%8C/dp/B09YMDKBS9/ref=sr_1_1?__mk_ja_JP=%E3%82%AB%E3%82%BF%E3%82%AB%E3%83%8A&crid=1SN35COEEEDUD&keywords=B09YMDKBS9&qid=1680892127&sprefix=b000so1cve%2Caps%2C173&sr=8-1&th=1\n",
      "ASIN整合性: 一致\n",
      "\n",
      "----- 取得完了 -----\n",
      "Wall time: 25.4 s\n"
     ]
    }
   ],
   "source": [
    "%%time\n",
    "from selenium import webdriver\n",
    "from selenium.webdriver.chrome.options import Options\n",
    "from selenium.webdriver.common.by import By\n",
    "from selenium.webdriver.common.keys import Keys\n",
    "from selenium.webdriver.chrome import service as fs\n",
    "from time import sleep\n",
    "from bs4 import BeautifulSoup\n",
    "import datetime\n",
    "import csv\n",
    "\n",
    "CHROMEDRIVER = r'C:\\Users\\amuza\\Python-study\\ec_scraping\\chromedriver.exe'\n",
    "chrome_service = fs.Service(executable_path = CHROMEDRIVER)\n",
    "options = Options()\n",
    "# options.add_argument('--headless')\n",
    "driver = webdriver.Chrome(service = chrome_service, options = options)\n",
    "\n",
    "# Amazon のトップページを開く\n",
    "url = 'https://www.amazon.co.jp/ref=nav_logo'\n",
    "driver.get(url)\n",
    "# 大元のウィンドウの保持\n",
    "original_window = driver.current_window_handle\n",
    "sleep(1)\n",
    "\n",
    "# 取得情報格納用のリスト準備\n",
    "amazon_list = []\n",
    "\n",
    "# 調査対象の ASIN リスト\n",
    "ASINs = ['B001VZNABO', 'B000SO1CVE', 'B09YMDKBS9']\n",
    "\n",
    "for asin in ASINs:\n",
    "    \n",
    "    # asin = ASINs[i]  # ここからループで回す\n",
    "    print('検索対象ASIN:', asin)\n",
    "\n",
    "    # 検索ボックスに ASIN 番号を入力する\n",
    "    driver.find_element(By.ID, 'twotabsearchtextbox').send_keys(asin)\n",
    "    # sleep(1)\n",
    "    # 検索ボタンをクリックする\n",
    "    driver.find_element(By.ID, 'nav-search-submit-button').click()\n",
    "    # sleep(1)\n",
    "    # 商品ページのリンクをクリックする。別ウィンドウで開かれる\n",
    "    driver.find_element(By.XPATH, f'(//a[contains(@href, \"keywords={asin}\")])[1]').click()\n",
    "    sleep(1)\n",
    "\n",
    "    # 開いているすべてのウィンドウハンドルを取得する（リスト形式）\n",
    "    handle_array = driver.window_handles\n",
    "    # 別ウィンドウに切り替える\n",
    "    driver.switch_to.window(handle_array[-1])\n",
    "    # HTML 構造を取得する\n",
    "    soup = BeautifulSoup(driver.page_source, 'html.parser')\n",
    "\n",
    "    # 商品名を取得する\n",
    "    name = soup.select('span#productTitle')[0].text.strip()\n",
    "    print('商品名:', name)\n",
    "\n",
    "    # ASIN（パターン1）を取得する\n",
    "    if soup.select('span:contains(\"ASIN\")+span'):\n",
    "        asin_1 = soup.select('span:contains(\"ASIN\")+span')[0].text\n",
    "    else:\n",
    "        asin_1 = '-'\n",
    "    print('取得ASIN_1:', asin_1)\n",
    "\n",
    "    # ASIN（パターン2）を取得する\n",
    "    if soup.select(f'td:contains({asin})'):\n",
    "        asin_2 = soup.select(f'td:contains({asin})')[0].text.strip()\n",
    "    else:\n",
    "        asin_2 = '-'\n",
    "    print('取得ASIN_2:', asin_2)\n",
    "\n",
    "    # 最小注文個数を取得する\n",
    "    if soup.select('a#trigger_popover'):\n",
    "        min_order = soup.select('a#trigger_popover')[0].text.strip()\n",
    "    else:\n",
    "        min_order = '設定なし'\n",
    "    print('最小注文個数:', min_order)\n",
    "\n",
    "    # 商品ページ URL を取得する\n",
    "    url = driver.current_url\n",
    "    print('商品URL:', url)\n",
    "\n",
    "    # 検索対象の ASIN と取得した ASIN が一致しているかをチェック\n",
    "    if asin_1 == '-':\n",
    "        if asin == asin_2:\n",
    "            check = '一致'\n",
    "            print('ASIN整合性:', check)\n",
    "        else:\n",
    "            check = '◆不一致◆'\n",
    "    elif asin_2 == '-':\n",
    "        if asin == asin_1:\n",
    "            check = '一致'\n",
    "            print('ASIN整合性:', check)\n",
    "        else:\n",
    "            check = '◆不一致◆'\n",
    "    print('')\n",
    "        \n",
    "    # 取得した情報をリストに追加する\n",
    "    amazon_list.append([asin, name, asin_1, asin_2, min_order, url, check])\n",
    "    \n",
    "    # 現在のウィンドウを閉じる\n",
    "    driver.close()\n",
    "    # sleep(1)\n",
    "    # 元のウィンドウに切り替える\n",
    "    driver.switch_to.window(original_window)\n",
    "\n",
    "    # 検索ボックスに残っている文字列を消す\n",
    "    driver.find_element(By.ID, 'twotabsearchtextbox').clear()\n",
    "    # sleep(1)\n",
    "\n",
    "# 取得した全データを csv ファイルに出力する\n",
    "csv_header = ['検索対象ASIN', '商品名', '取得ASIN_1', '取得ASIN_2', '最小注文個数', '商品URL', 'ASIN整合性']\n",
    "csv_file_name = 'amazon_MinOrder_research.csv'\n",
    "\n",
    "with open(csv_file_name, 'w', errors = 'ignore') as file:\n",
    "    writer = csv.writer(file, lineterminator='\\n')\n",
    "    writer.writerow(csv_header)\n",
    "    writer.writerows(amazon_list)\n",
    "    \n",
    "print('----- 取得完了 -----')"
   ]
  }
 ],
 "metadata": {
  "kernelspec": {
   "display_name": "Python 3 (ipykernel)",
   "language": "python",
   "name": "python3"
  },
  "language_info": {
   "codemirror_mode": {
    "name": "ipython",
    "version": 3
   },
   "file_extension": ".py",
   "mimetype": "text/x-python",
   "name": "python",
   "nbconvert_exporter": "python",
   "pygments_lexer": "ipython3",
   "version": "3.9.13"
  }
 },
 "nbformat": 4,
 "nbformat_minor": 5
}
